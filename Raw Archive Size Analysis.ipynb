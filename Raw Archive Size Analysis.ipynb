{
 "cells": [
  {
   "cell_type": "code",
   "execution_count": 1,
   "metadata": {
    "collapsed": false
   },
   "outputs": [],
   "source": [
    "import pandas as pd\n",
    "import numpy as np\n",
    "\n",
    "% matplotlib inline\n",
    "import matplotlib.pyplot as plt"
   ]
  },
  {
   "cell_type": "code",
   "execution_count": 2,
   "metadata": {
    "collapsed": false,
    "scrolled": true
   },
   "outputs": [
    {
     "name": "stdout",
     "output_type": "stream",
     "text": [
      "       nas       bytes                                           filename\n",
      "0        1     3224599  ./2011/10/01/APLUWCOVISMBSONAR001_20111001T125...\n",
      "1        1     3231845  ./2011/10/01/APLUWCOVISMBSONAR001_20111001T185...\n",
      "2        1  1587003908  ./2011/10/01/APLUWCOVISMBSONAR001_20111001T153...\n",
      "3        1  1581885971  ./2011/10/01/APLUWCOVISMBSONAR001_20111001T121...\n",
      "4        1   160634205  ./2011/10/01/APLUWCOVISMBSONAR001_20111001T180...\n",
      "5        1  1614996135  ./2011/10/01/APLUWCOVISMBSONAR001_20111001T211...\n",
      "6        1  1609607342  ./2011/10/01/APLUWCOVISMBSONAR001_20111001T183...\n",
      "7        1     3140924  ./2011/10/01/APLUWCOVISMBSONAR001_20111001T010...\n",
      "8        1  1637845830  ./2011/10/01/APLUWCOVISMBSONAR001_20111001T063...\n",
      "9        1   163650038  ./2011/10/01/APLUWCOVISMBSONAR001_20111001T210...\n",
      "10       1     3199800  ./2011/10/01/APLUWCOVISMBSONAR001_20111001T215...\n",
      "11       1   159311472  ./2011/10/01/APLUWCOVISMBSONAR001_20111001T060...\n",
      "12       1   158660859  ./2011/10/01/APLUWCOVISMBSONAR001_20111001T030...\n",
      "13       1   164401747  ./2011/10/01/APLUWCOVISMBSONAR001_20111001T090...\n",
      "14       1   157726854  ./2011/10/01/APLUWCOVISMBSONAR001_20111001T000...\n",
      "15       1   158609330  ./2011/10/01/APLUWCOVISMBSONAR001_20111001T120...\n",
      "16       1   159952945  ./2011/10/01/APLUWCOVISMBSONAR001_20111001T030...\n",
      "17       1     3112131  ./2011/10/01/APLUWCOVISMBSONAR001_20111001T155...\n",
      "18       1   161123189  ./2011/10/01/APLUWCOVISMBSONAR001_20111001T180...\n",
      "19       1   155478554  ./2011/10/01/APLUWCOVISMBSONAR001_20111001T150...\n",
      "20       1     3147350  ./2011/10/01/APLUWCOVISMBSONAR001_20111001T035...\n",
      "21       1   160882248  ./2011/10/01/APLUWCOVISMBSONAR001_20111001T060...\n",
      "22       1   160347422  ./2011/10/01/APLUWCOVISMBSONAR001_20111001T090...\n",
      "23       1  1595866732  ./2011/10/01/APLUWCOVISMBSONAR001_20111001T123...\n",
      "24       1   158942882  ./2011/10/01/APLUWCOVISMBSONAR001_20111001T120...\n",
      "25       1   156573978  ./2011/10/01/APLUWCOVISMBSONAR001_20111001T120...\n",
      "26       1  1597735887  ./2011/10/01/APLUWCOVISMBSONAR001_20111001T003...\n",
      "27       1   161527890  ./2011/10/01/APLUWCOVISMBSONAR001_20111001T210...\n",
      "28       1  1580160938  ./2011/10/01/APLUWCOVISMBSONAR001_20111001T031...\n",
      "29       1   158290559  ./2011/10/01/APLUWCOVISMBSONAR001_20111001T180...\n",
      "...    ...         ...                                                ...\n",
      "64940    6   503576379  ./2012/10/08/APLUWCOVISMBSONAR001_20121008T180...\n",
      "64941    6   513027674  ./2012/10/08/APLUWCOVISMBSONAR001_20121008T210...\n",
      "64942    6     3067685  ./2012/10/08/APLUWCOVISMBSONAR001_20121008T185...\n",
      "64943    6     2985217  ./2012/10/08/APLUWCOVISMBSONAR001_20121008T215...\n",
      "64944    6  3266581049  ./2012/10/08/APLUWCOVISMBSONAR001_20121008T181...\n",
      "64945    6  3223924716  ./2012/10/08/APLUWCOVISMBSONAR001_20121008T211...\n",
      "64946    6   516120192  ./2012/10/09/APLUWCOVISMBSONAR001_20121009T000...\n",
      "64947    6   529370641  ./2012/10/09/APLUWCOVISMBSONAR001_20121009T030...\n",
      "64948    6     3041255  ./2012/10/09/APLUWCOVISMBSONAR001_20121009T005...\n",
      "64949    6     3028822  ./2012/10/09/APLUWCOVISMBSONAR001_20121009T035...\n",
      "64950    6  3251649052  ./2012/10/09/APLUWCOVISMBSONAR001_20121009T001...\n",
      "64951    6  3232021857  ./2012/10/09/APLUWCOVISMBSONAR001_20121009T031...\n",
      "64952    6   506430351  ./2012/10/09/APLUWCOVISMBSONAR001_20121009T060...\n",
      "64953    6   496999306  ./2012/10/09/APLUWCOVISMBSONAR001_20121009T090...\n",
      "64954    6     3014307  ./2012/10/09/APLUWCOVISMBSONAR001_20121009T065...\n",
      "64955    6     3013725  ./2012/10/09/APLUWCOVISMBSONAR001_20121009T095...\n",
      "64956    6  3216327325  ./2012/10/09/APLUWCOVISMBSONAR001_20121009T061...\n",
      "64957    6  3201282872  ./2012/10/09/APLUWCOVISMBSONAR001_20121009T091...\n",
      "64958    6   490202112  ./2012/10/09/APLUWCOVISMBSONAR001_20121009T120...\n",
      "64959    6   500384054  ./2012/10/09/APLUWCOVISMBSONAR001_20121009T150...\n",
      "64960    6     3022537  ./2012/10/09/APLUWCOVISMBSONAR001_20121009T125...\n",
      "64961    6     3048050  ./2012/10/09/APLUWCOVISMBSONAR001_20121009T155...\n",
      "64962    6  3173858398  ./2012/10/09/APLUWCOVISMBSONAR001_20121009T121...\n",
      "64963    6  3249399991  ./2012/10/09/APLUWCOVISMBSONAR001_20121009T151...\n",
      "64964    6   504747241  ./2012/10/09/APLUWCOVISMBSONAR001_20121009T180...\n",
      "64965    6   501357614  ./2012/10/09/APLUWCOVISMBSONAR001_20121009T210...\n",
      "64966    6     3044377  ./2012/10/09/APLUWCOVISMBSONAR001_20121009T185...\n",
      "64967    6     3064879  ./2012/10/09/APLUWCOVISMBSONAR001_20121009T215...\n",
      "64968    6  3225086170  ./2012/10/09/APLUWCOVISMBSONAR001_20121009T181...\n",
      "64969    6  3243492559  ./2012/10/09/APLUWCOVISMBSONAR001_20121009T211...\n",
      "\n",
      "[75876 rows x 3 columns]\n"
     ]
    }
   ],
   "source": [
    "filenames = [ 'raw-data/covis-nas1.txt', \\\n",
    "        'raw-data/covis-nas3.txt', \\\n",
    "        'raw-data/covis-nas6.txt' ]\n",
    "\n",
    "fsz = [pd.read_csv(f, delim_whitespace=True, header=0, names=['nas','bytes','filename']) for f in filenames]\n",
    "\n",
    "files = pd.concat(fsz)\n",
    "\n",
    "print(files)"
   ]
  },
  {
   "cell_type": "code",
   "execution_count": 3,
   "metadata": {
    "collapsed": false
   },
   "outputs": [],
   "source": [
    "ts = pd.DataFrame()\n",
    "ts['str'] = files['filename'].str.extract('([\\.\\/a-zA-Z0-9]*)_([0-9T]*)', expand=True)[1]\n",
    "files['datetime'] = pd.to_datetime(ts['str'], format='%Y%m%dT%H%M%S')\n",
    "\n",
    "## Extract type\n",
    "files['datatype'] = files['filename'].str.extract('([\\.\\/\\w]*)-([A-Z]*)', expand=True)[1]\n",
    "\n",
    "##files = files.set_index('datetime')\n",
    "\n"
   ]
  },
  {
   "cell_type": "code",
   "execution_count": 4,
   "metadata": {
    "collapsed": false
   },
   "outputs": [
    {
     "name": "stdout",
     "output_type": "stream",
     "text": [
      "Type = IMAGING\n",
      "Mean = 473802101.049324 bytes, stddev = 107757663.117764 bytes\n",
      "     = 451.852895 MiB, 102.765716 MiB\n"
     ]
    },
    {
     "data": {
      "image/png": "[encoded data removed]",
      "text/plain": [
       "<matplotlib.figure.Figure at 0x11074a7f0>"
      ]
     },
     "metadata": {},
     "output_type": "display_data"
    },
    {
     "name": "stdout",
     "output_type": "stream",
     "text": [
      "Type = DOPPLER\n",
      "Mean = 339754543.041780 bytes, stddev = 989384364.729457 bytes\n",
      "     = 324.015182 MiB, 943.550458 MiB\n"
     ]
    },
    {
     "data": {
      "image/png": "[encoded data removed]",
      "text/plain": [
       "<matplotlib.figure.Figure at 0x11074a828>"
      ]
     },
     "metadata": {},
     "output_type": "display_data"
    },
    {
     "name": "stdout",
     "output_type": "stream",
     "text": [
      "Type = DIFFUSE\n",
      "Mean = 2492727.970118 bytes, stddev = 369276.391196 bytes\n",
      "     = 2.377251 MiB, 0.352169 MiB\n"
     ]
    },
    {
     "data": {
      "image/png": "[encoded data removed]",
      "text/plain": [
       "<matplotlib.figure.Figure at 0x110ae2ef0>"
      ]
     },
     "metadata": {},
     "output_type": "display_data"
    }
   ],
   "source": [
    "datatypes = ['IMAGING', 'DOPPLER', 'DIFFUSE']\n",
    "files['mib'] = files['bytes'] / 2**20\n",
    "\n",
    "for dt in datatypes:\n",
    "    print(\"Type = %s\" % dt)\n",
    "        \n",
    "    relevant = files[ files['datatype'] == dt ]\n",
    "        \n",
    "    mean_size = relevant['bytes'].mean()\n",
    "    std_size = relevant['bytes'].std()\n",
    "    print(\"Mean = %f bytes, stddev = %f bytes\" % (mean_size, std_size) )\n",
    "    print(\"     = %f MiB, %f MiB\" % (relevant['mib'].mean(), relevant['mib'].std()))\n",
    "\n",
    "    plt.figure()\n",
    "    weights = np.ones_like(relevant['mib'])/float(len(relevant['mib']))\n",
    "    plt.hist( relevant['mib'],normed=False, weights=weights)\n",
    "    plt.ylim(0.0,1.0)\n",
    "    plt.ylabel('Frequency')\n",
    "    plt.xlabel('MiB')\n",
    "    plt.show()"
   ]
  },
  {
   "cell_type": "code",
   "execution_count": 16,
   "metadata": {
    "collapsed": false
   },
   "outputs": [
    {
     "name": "stdout",
     "output_type": "stream",
     "text": [
      "       nas       bytes                                           filename  \\\n",
      "0        1     3224599  ./2011/10/01/APLUWCOVISMBSONAR001_20111001T125...   \n",
      "1        1     3231845  ./2011/10/01/APLUWCOVISMBSONAR001_20111001T185...   \n",
      "2        1  1587003908  ./2011/10/01/APLUWCOVISMBSONAR001_20111001T153...   \n",
      "3        1  1581885971  ./2011/10/01/APLUWCOVISMBSONAR001_20111001T121...   \n",
      "4        1   160634205  ./2011/10/01/APLUWCOVISMBSONAR001_20111001T180...   \n",
      "5        1  1614996135  ./2011/10/01/APLUWCOVISMBSONAR001_20111001T211...   \n",
      "6        1  1609607342  ./2011/10/01/APLUWCOVISMBSONAR001_20111001T183...   \n",
      "7        1     3140924  ./2011/10/01/APLUWCOVISMBSONAR001_20111001T010...   \n",
      "8        1  1637845830  ./2011/10/01/APLUWCOVISMBSONAR001_20111001T063...   \n",
      "9        1   163650038  ./2011/10/01/APLUWCOVISMBSONAR001_20111001T210...   \n",
      "10       1     3199800  ./2011/10/01/APLUWCOVISMBSONAR001_20111001T215...   \n",
      "11       1   159311472  ./2011/10/01/APLUWCOVISMBSONAR001_20111001T060...   \n",
      "12       1   158660859  ./2011/10/01/APLUWCOVISMBSONAR001_20111001T030...   \n",
      "13       1   164401747  ./2011/10/01/APLUWCOVISMBSONAR001_20111001T090...   \n",
      "14       1   157726854  ./2011/10/01/APLUWCOVISMBSONAR001_20111001T000...   \n",
      "15       1   158609330  ./2011/10/01/APLUWCOVISMBSONAR001_20111001T120...   \n",
      "16       1   159952945  ./2011/10/01/APLUWCOVISMBSONAR001_20111001T030...   \n",
      "17       1     3112131  ./2011/10/01/APLUWCOVISMBSONAR001_20111001T155...   \n",
      "18       1   161123189  ./2011/10/01/APLUWCOVISMBSONAR001_20111001T180...   \n",
      "19       1   155478554  ./2011/10/01/APLUWCOVISMBSONAR001_20111001T150...   \n",
      "20       1     3147350  ./2011/10/01/APLUWCOVISMBSONAR001_20111001T035...   \n",
      "21       1   160882248  ./2011/10/01/APLUWCOVISMBSONAR001_20111001T060...   \n",
      "22       1   160347422  ./2011/10/01/APLUWCOVISMBSONAR001_20111001T090...   \n",
      "23       1  1595866732  ./2011/10/01/APLUWCOVISMBSONAR001_20111001T123...   \n",
      "24       1   158942882  ./2011/10/01/APLUWCOVISMBSONAR001_20111001T120...   \n",
      "25       1   156573978  ./2011/10/01/APLUWCOVISMBSONAR001_20111001T120...   \n",
      "26       1  1597735887  ./2011/10/01/APLUWCOVISMBSONAR001_20111001T003...   \n",
      "27       1   161527890  ./2011/10/01/APLUWCOVISMBSONAR001_20111001T210...   \n",
      "28       1  1580160938  ./2011/10/01/APLUWCOVISMBSONAR001_20111001T031...   \n",
      "29       1   158290559  ./2011/10/01/APLUWCOVISMBSONAR001_20111001T180...   \n",
      "...    ...         ...                                                ...   \n",
      "64940    6   503576379  ./2012/10/08/APLUWCOVISMBSONAR001_20121008T180...   \n",
      "64941    6   513027674  ./2012/10/08/APLUWCOVISMBSONAR001_20121008T210...   \n",
      "64942    6     3067685  ./2012/10/08/APLUWCOVISMBSONAR001_20121008T185...   \n",
      "64943    6     2985217  ./2012/10/08/APLUWCOVISMBSONAR001_20121008T215...   \n",
      "64944    6  3266581049  ./2012/10/08/APLUWCOVISMBSONAR001_20121008T181...   \n",
      "64945    6  3223924716  ./2012/10/08/APLUWCOVISMBSONAR001_20121008T211...   \n",
      "64946    6   516120192  ./2012/10/09/APLUWCOVISMBSONAR001_20121009T000...   \n",
      "64947    6   529370641  ./2012/10/09/APLUWCOVISMBSONAR001_20121009T030...   \n",
      "64948    6     3041255  ./2012/10/09/APLUWCOVISMBSONAR001_20121009T005...   \n",
      "64949    6     3028822  ./2012/10/09/APLUWCOVISMBSONAR001_20121009T035...   \n",
      "64950    6  3251649052  ./2012/10/09/APLUWCOVISMBSONAR001_20121009T001...   \n",
      "64951    6  3232021857  ./2012/10/09/APLUWCOVISMBSONAR001_20121009T031...   \n",
      "64952    6   506430351  ./2012/10/09/APLUWCOVISMBSONAR001_20121009T060...   \n",
      "64953    6   496999306  ./2012/10/09/APLUWCOVISMBSONAR001_20121009T090...   \n",
      "64954    6     3014307  ./2012/10/09/APLUWCOVISMBSONAR001_20121009T065...   \n",
      "64955    6     3013725  ./2012/10/09/APLUWCOVISMBSONAR001_20121009T095...   \n",
      "64956    6  3216327325  ./2012/10/09/APLUWCOVISMBSONAR001_20121009T061...   \n",
      "64957    6  3201282872  ./2012/10/09/APLUWCOVISMBSONAR001_20121009T091...   \n",
      "64958    6   490202112  ./2012/10/09/APLUWCOVISMBSONAR001_20121009T120...   \n",
      "64959    6   500384054  ./2012/10/09/APLUWCOVISMBSONAR001_20121009T150...   \n",
      "64960    6     3022537  ./2012/10/09/APLUWCOVISMBSONAR001_20121009T125...   \n",
      "64961    6     3048050  ./2012/10/09/APLUWCOVISMBSONAR001_20121009T155...   \n",
      "64962    6  3173858398  ./2012/10/09/APLUWCOVISMBSONAR001_20121009T121...   \n",
      "64963    6  3249399991  ./2012/10/09/APLUWCOVISMBSONAR001_20121009T151...   \n",
      "64964    6   504747241  ./2012/10/09/APLUWCOVISMBSONAR001_20121009T180...   \n",
      "64965    6   501357614  ./2012/10/09/APLUWCOVISMBSONAR001_20121009T210...   \n",
      "64966    6     3044377  ./2012/10/09/APLUWCOVISMBSONAR001_20121009T185...   \n",
      "64967    6     3064879  ./2012/10/09/APLUWCOVISMBSONAR001_20121009T215...   \n",
      "64968    6  3225086170  ./2012/10/09/APLUWCOVISMBSONAR001_20121009T181...   \n",
      "64969    6  3243492559  ./2012/10/09/APLUWCOVISMBSONAR001_20121009T211...   \n",
      "\n",
      "                 datetime datatype          mib  count  \n",
      "0     2011-10-01 12:59:23  DIFFUSE     3.075217      1  \n",
      "1     2011-10-01 18:59:31  DIFFUSE     3.082128      1  \n",
      "2     2011-10-01 15:35:34  DOPPLER  1513.484867      1  \n",
      "3     2011-10-01 12:11:52  DOPPLER  1508.604022      1  \n",
      "4     2011-10-01 18:04:30  IMAGING   153.192716      1  \n",
      "5     2011-10-01 21:11:37  DOPPLER  1540.180335      1  \n",
      "6     2011-10-01 18:35:56  DOPPLER  1535.041182      1  \n",
      "7     2011-10-01 01:00:00  DIFFUSE     2.995419      1  \n",
      "8     2011-10-01 06:35:50  DOPPLER  1561.971502      1  \n",
      "9     2011-10-01 21:07:57  IMAGING   156.068838      1  \n",
      "10    2011-10-01 21:59:09  DIFFUSE     3.051567      1  \n",
      "11    2011-10-01 06:00:39  IMAGING   151.931259      1  \n",
      "12    2011-10-01 03:00:39  IMAGING   151.310786      1  \n",
      "13    2011-10-01 09:07:56  IMAGING   156.785724      1  \n",
      "14    2011-10-01 00:08:40  IMAGING   150.420050      1  \n",
      "15    2011-10-01 12:08:15  IMAGING   151.261644      1  \n",
      "16    2011-10-01 03:04:23  IMAGING   152.543015      1  \n",
      "17    2011-10-01 15:59:09  DIFFUSE     2.967959      1  \n",
      "18    2011-10-01 18:08:19  IMAGING   153.659047      1  \n",
      "19    2011-10-01 15:08:00  IMAGING   148.275904      1  \n",
      "20    2011-10-01 03:59:11  DIFFUSE     3.001547      1  \n",
      "21    2011-10-01 06:04:27  IMAGING   153.429268      1  \n",
      "22    2011-10-01 09:00:40  IMAGING   152.919218      1  \n",
      "23    2011-10-01 12:35:47  DOPPLER  1521.937115      1  \n",
      "24    2011-10-01 12:04:28  IMAGING   151.579744      1  \n",
      "25    2011-10-01 12:00:40  IMAGING   149.320581      1  \n",
      "26    2011-10-01 00:36:25  DOPPLER  1523.719680      1  \n",
      "27    2011-10-01 21:00:39  IMAGING   154.045000      1  \n",
      "28    2011-10-01 03:11:40  DOPPLER  1506.958902      1  \n",
      "29    2011-10-01 18:00:40  IMAGING   150.957641      1  \n",
      "...                   ...      ...          ...    ...  \n",
      "64940 2012-10-08 18:00:41  IMAGING   480.247859      1  \n",
      "64941 2012-10-08 21:00:41  IMAGING   489.261316      1  \n",
      "64942 2012-10-08 18:54:44  DIFFUSE     2.925572      1  \n",
      "64943 2012-10-08 21:54:18  DIFFUSE     2.846925      1  \n",
      "64944 2012-10-08 18:10:21  DOPPLER  3115.254449      1  \n",
      "64945 2012-10-08 21:10:16  DOPPLER  3074.574200      1  \n",
      "64946 2012-10-09 00:00:41  IMAGING   492.210571      1  \n",
      "64947 2012-10-09 03:00:42  IMAGING   504.847184      1  \n",
      "64948 2012-10-09 00:54:54  DIFFUSE     2.900367      1  \n",
      "64949 2012-10-09 03:54:34  DIFFUSE     2.888510      1  \n",
      "64950 2012-10-09 00:10:23  DOPPLER  3101.014187      1  \n",
      "64951 2012-10-09 03:10:22  DOPPLER  3082.296235      1  \n",
      "64952 2012-10-09 06:00:42  IMAGING   482.969619      1  \n",
      "64953 2012-10-09 09:00:42  IMAGING   473.975473      1  \n",
      "64954 2012-10-09 06:54:27  DIFFUSE     2.874667      1  \n",
      "64955 2012-10-09 09:54:37  DIFFUSE     2.874112      1  \n",
      "64956 2012-10-09 06:10:12  DOPPLER  3067.328763      1  \n",
      "64957 2012-10-09 09:10:16  DOPPLER  3052.981255      1  \n",
      "64958 2012-10-09 12:00:41  IMAGING   467.493164      1  \n",
      "64959 2012-10-09 15:00:42  IMAGING   477.203421      1  \n",
      "64960 2012-10-09 12:54:30  DIFFUSE     2.882516      1  \n",
      "64961 2012-10-09 15:54:57  DIFFUSE     2.906847      1  \n",
      "64962 2012-10-09 12:10:19  DOPPLER  3026.827238      1  \n",
      "64963 2012-10-09 15:10:29  DOPPLER  3098.869315      1  \n",
      "64964 2012-10-09 18:00:42  IMAGING   481.364480      1  \n",
      "64965 2012-10-09 21:00:43  IMAGING   478.131880      1  \n",
      "64966 2012-10-09 18:54:36  DIFFUSE     2.903344      1  \n",
      "64967 2012-10-09 21:54:37  DIFFUSE     2.922896      1  \n",
      "64968 2012-10-09 18:10:22  DOPPLER  3075.681849      1  \n",
      "64969 2012-10-09 21:10:22  DOPPLER  3093.235549      1  \n",
      "\n",
      "[31584 rows x 7 columns]\n"
     ]
    },
    {
     "name": "stderr",
     "output_type": "stream",
     "text": [
      "/Users/aaron/workspace/miniconda3/lib/python3.6/site-packages/ipykernel/__main__.py:2: SettingWithCopyWarning: \n",
      "A value is trying to be set on a copy of a slice from a DataFrame.\n",
      "Try using .loc[row_indexer,col_indexer] = value instead\n",
      "\n",
      "See the caveats in the documentation: http://pandas.pydata.org/pandas-docs/stable/indexing.html#indexing-view-versus-copy\n",
      "  from ipykernel import kernelapp as app\n",
      "/Users/aaron/workspace/miniconda3/lib/python3.6/site-packages/ipykernel/__main__.py:4: SettingWithCopyWarning: \n",
      "A value is trying to be set on a copy of a slice from a DataFrame.\n",
      "Try using .loc[row_indexer,col_indexer] = value instead\n",
      "\n",
      "See the caveats in the documentation: http://pandas.pydata.org/pandas-docs/stable/indexing.html#indexing-view-versus-copy\n"
     ]
    }
   ],
   "source": [
    "dedup = files.drop_duplicates(subset=['datetime'])\n",
    "dedup['count'] = 1\n",
    "print(dedup)\n",
    "dedup['date'] = dedup['datetime'].dt.date\n",
    "byday = dedup.groupby(['datatype','date']).sum()"
   ]
  },
  {
   "cell_type": "code",
   "execution_count": 17,
   "metadata": {
    "collapsed": false
   },
   "outputs": [
    {
     "name": "stdout",
     "output_type": "stream",
     "text": [
      "                     nas       bytes          mib  count\n",
      "datatype date                                           \n",
      "DIFFUSE  2011-09-28    8    24991772    23.834011      8\n",
      "         2011-09-29    8    25668923    24.479793      8\n",
      "         2011-09-30    8    25079022    23.917219      8\n",
      "         2011-10-01    8    25434240    24.255981      8\n",
      "         2011-10-02    8    25539869    24.356717      8\n",
      "         2011-10-03    8    25536850    24.353838      8\n",
      "         2011-10-04    8    25397544    24.220985      8\n",
      "         2011-10-05    8    25491402    24.310495      8\n",
      "         2011-10-06    8    25481766    24.301306      8\n",
      "         2011-10-07    8    25571698    24.387072      8\n",
      "         2011-10-08    8    25658564    24.469913      8\n",
      "         2011-10-09    8    25694496    24.504181      8\n",
      "         2011-10-10    8    25615475    24.428821      8\n",
      "         2011-10-11    8    25733741    24.541608      8\n",
      "         2011-10-12    8    25744417    24.551789      8\n",
      "         2011-10-13    8    25795213    24.600232      8\n",
      "         2011-10-14    8    25572858    24.388178      8\n",
      "         2011-10-15    8    25522153    24.339822      8\n",
      "         2011-10-16    8    25708120    24.517174      8\n",
      "         2011-10-17    8    25645973    24.457906      8\n",
      "         2011-10-18    8    25897501    24.697782      8\n",
      "         2011-10-19    8    25883664    24.684586      8\n",
      "         2011-10-20    5    15714794    14.986795      5\n",
      "         2011-10-21    6    19296571    18.402644      6\n",
      "         2011-10-22    8    25915419    24.714869      8\n",
      "         2011-10-23    8    25750244    24.557346      8\n",
      "         2011-10-24    8    25555109    24.371251      8\n",
      "         2011-10-25    8    25716761    24.525414      8\n",
      "         2011-10-26    8    25831169    24.634522      8\n",
      "         2011-10-27    8    25639816    24.452034      8\n",
      "...                  ...         ...          ...    ...\n",
      "IMAGING  2015-02-11   48  4053556386  3865.772615      8\n",
      "         2015-02-12   48  4079428436  3890.446125      8\n",
      "         2015-02-13   48  4130593975  3939.241385      8\n",
      "         2015-02-14   48  4079741749  3890.744924      8\n",
      "         2015-02-15   48  4082643218  3893.511980      8\n",
      "         2015-02-16   48  4080463396  3891.433140      8\n",
      "         2015-02-17   48  4076368098  3887.527559      8\n",
      "         2015-02-18   48  4103716492  3913.609020      8\n",
      "         2015-02-19   48  4064486921  3876.196786      8\n",
      "         2015-02-20   48  4052846479  3865.095595      8\n",
      "         2015-02-21   48  4059749203  3871.678546      8\n",
      "         2015-02-22   48  4093566534  3903.929266      8\n",
      "         2015-02-23   48  4080008128  3890.998962      8\n",
      "         2015-02-24   48  4091797326  3902.242018      8\n",
      "         2015-02-25   48  4085033284  3895.791325      8\n",
      "         2015-02-26   24  2060847082  1965.376932      4\n",
      "         2015-02-27   48  4099100281  3909.206658      8\n",
      "         2015-02-28   12  1031223770   983.451624      2\n",
      "         2015-03-01   36  3098760747  2955.208537      6\n",
      "         2015-03-02   18  1518934212  1448.568546      3\n",
      "         2015-03-03   30  2553448847  2435.158584      5\n",
      "         2015-03-04   30  2570447332  2451.369602      5\n",
      "         2015-03-05   24  2036440992  1942.101471      4\n",
      "         2015-03-06   12  1020988753   973.690751      2\n",
      "         2015-03-07    6   509380618   485.783213      1\n",
      "         2015-03-08   30  2537484116  2419.933430      5\n",
      "         2015-03-09    6   518618809   494.593438      1\n",
      "         2015-03-10   24  2060759684  1965.293583      4\n",
      "         2015-03-11   18  1541899270  1470.469732      3\n",
      "         2015-03-12    6   507120712   483.627998      1\n",
      "\n",
      "[2234 rows x 4 columns]\n"
     ]
    }
   ],
   "source": [
    "print(byday)"
   ]
  },
  {
   "cell_type": "code",
   "execution_count": 110,
   "metadata": {
    "collapsed": false
   },
   "outputs": [
    {
     "name": "stdout",
     "output_type": "stream",
     "text": [
      "             IMAGING    DOPPLER   DIFFUSE\n",
      "date                                     \n",
      "2011-09-30  0.010561   0.070398  0.000069\n",
      "2011-10-31  0.120225   0.768929  0.000774\n",
      "2011-11-30  0.178327   1.056118  0.001138\n",
      "2011-12-31  0.292018   1.356432  0.001842\n",
      "2012-01-31  0.379511   1.943072  0.002506\n",
      "2012-02-29  0.463367   2.534071  0.003119\n",
      "2012-03-31  0.577621   3.257354  0.003831\n",
      "2012-04-30  0.689070   3.966427  0.004523\n",
      "2012-05-31  0.785191   4.579546  0.005115\n",
      "2012-06-30  0.895353   5.272196  0.005787\n",
      "2012-07-31  1.008746   5.997451  0.006488\n",
      "2012-08-31  1.122880   6.726412  0.007185\n",
      "2012-09-30  1.233546   7.430919  0.007849\n",
      "2012-10-31  1.340194   8.112320  0.008494\n",
      "2012-11-30  1.433339   8.707637  0.009045\n",
      "2012-12-31  1.546847   9.433834  0.009717\n",
      "2013-01-31  1.660149  10.062742  0.010385\n",
      "2013-02-28  1.762192  10.713577  0.010989\n",
      "2013-03-31  1.876034  11.441975  0.011657\n",
      "2013-04-30  1.985357  12.147903  0.012299\n",
      "2013-05-31  2.092225  12.890502  0.012929\n",
      "2013-06-30  2.185172  13.469625  0.013455\n",
      "2013-07-31  2.211960  13.640025  0.013605\n",
      "2014-12-31  2.242800  13.841094  0.013763\n",
      "2015-01-31  2.334680  14.431455  0.014233\n",
      "2015-02-28  2.433990  15.066320  0.014736\n",
      "2015-03-31  2.452612  15.183516  0.015198\n",
      "2015-04-30       NaN        NaN  0.022408\n",
      "2015-05-31       NaN        NaN  0.029691\n",
      "2015-06-30       NaN        NaN  0.038410\n",
      "2015-07-31       NaN        NaN  0.046178\n",
      "2015-08-31       NaN        NaN  0.046491\n",
      "             IMAGING    DOPPLER   DIFFUSE      total\n",
      "date                                                \n",
      "2011-09-30  0.010561   0.070398  0.000069   0.081027\n",
      "2011-10-31  0.120225   0.768929  0.000774   0.889927\n",
      "2011-11-30  0.178327   1.056118  0.001138   1.235583\n",
      "2011-12-31  0.292018   1.356432  0.001842   1.650292\n",
      "2012-01-31  0.379511   1.943072  0.002506   2.325089\n",
      "2012-02-29  0.463367   2.534071  0.003119   3.000556\n",
      "2012-03-31  0.577621   3.257354  0.003831   3.838806\n",
      "2012-04-30  0.689070   3.966427  0.004523   4.660019\n",
      "2012-05-31  0.785191   4.579546  0.005115   5.369852\n",
      "2012-06-30  0.895353   5.272196  0.005787   6.173336\n",
      "2012-07-31  1.008746   5.997451  0.006488   7.012685\n",
      "2012-08-31  1.122880   6.726412  0.007185   7.856477\n",
      "2012-09-30  1.233546   7.430919  0.007849   8.672313\n",
      "2012-10-31  1.340194   8.112320  0.008494   9.461008\n",
      "2012-11-30  1.433339   8.707637  0.009045  10.150022\n",
      "2012-12-31  1.546847   9.433834  0.009717  10.990398\n",
      "2013-01-31  1.660149  10.062742  0.010385  11.733276\n",
      "2013-02-28  1.762192  10.713577  0.010989  12.486758\n",
      "2013-03-31  1.876034  11.441975  0.011657  13.329666\n",
      "2013-04-30  1.985357  12.147903  0.012299  14.145559\n",
      "2013-05-31  2.092225  12.890502  0.012929  14.995655\n",
      "2013-06-30  2.185172  13.469625  0.013455  15.668252\n",
      "2013-07-31  2.211960  13.640025  0.013605  15.865590\n",
      "2013-08-31       NaN        NaN       NaN        NaN\n",
      "2013-09-30       NaN        NaN       NaN        NaN\n",
      "2013-10-31       NaN        NaN       NaN        NaN\n",
      "2013-11-30       NaN        NaN       NaN        NaN\n",
      "2013-12-31       NaN        NaN       NaN        NaN\n",
      "2014-01-31       NaN        NaN       NaN        NaN\n",
      "2014-02-28       NaN        NaN       NaN        NaN\n",
      "2014-03-31       NaN        NaN       NaN        NaN\n",
      "2014-04-30       NaN        NaN       NaN        NaN\n",
      "2014-05-31       NaN        NaN       NaN        NaN\n",
      "2014-06-30       NaN        NaN       NaN        NaN\n",
      "2014-07-31       NaN        NaN       NaN        NaN\n",
      "2014-08-31       NaN        NaN       NaN        NaN\n",
      "2014-09-30       NaN        NaN       NaN        NaN\n",
      "2014-10-31       NaN        NaN       NaN        NaN\n",
      "2014-11-30       NaN        NaN       NaN        NaN\n",
      "2014-12-31  2.242800  13.841094  0.013763  16.097657\n",
      "2015-01-31  2.334680  14.431455  0.014233  16.780367\n",
      "2015-02-28  2.433990  15.066320  0.014736  17.515046\n",
      "2015-03-31  2.452612  15.183516  0.015198  17.651326\n",
      "2015-04-30  2.452612  15.183516  0.022408  17.658535\n",
      "2015-05-31  2.452612  15.183516  0.029691  17.665818\n",
      "2015-06-30  2.452612  15.183516  0.038410  17.674538\n",
      "2015-07-31  2.452612  15.183516  0.046178  17.682305\n",
      "2015-08-31  2.452612  15.183516  0.046491  17.682618\n"
     ]
    },
    {
     "data": {
      "text/plain": [
       "<matplotlib.figure.Figure at 0x116945748>"
      ]
     },
     "metadata": {},
     "output_type": "display_data"
    },
    {
     "data": {
      "image/png": "[encoded data removed]",
      "text/plain": [
       "<matplotlib.figure.Figure at 0x110a5fd68>"
      ]
     },
     "metadata": {},
     "output_type": "display_data"
    }
   ],
   "source": [
    "cumulative = pd.DataFrame(index=pd.to_datetime(byday.index.get_level_values(1)) )\n",
    "\n",
    "\n",
    "for dt in datatypes:  \n",
    "    relevant = byday.loc[dt]  \n",
    "    cumulative[dt] = relevant['mib'].cumsum()/2**20\n",
    "\n",
    "#     mean_size = relevant['bytes'].mean()\n",
    "#     std_size = relevant['bytes'].std()\n",
    "#     print(\"Mean = %f bytes, stddev = %f bytes\" % (mean_size, std_size) )\n",
    "#     print(\"     = %f MiB, %f MiB\" % (relevant['mib'].mean(), relevant['mib'].std()))\n",
    "\n",
    "#     plt.figure()\n",
    "#     weights = np.ones_like(relevant['mib'])/float(len(relevant['mib']))\n",
    "#     plt.hist( relevant['mib'],normed=False, weights=weights)\n",
    "#     plt.ylim(0.0,1.0)\n",
    "#     plt.ylabel('Frequency')\n",
    "#     plt.xlabel('MiB')\n",
    "#     plt.show()\n",
    "\n",
    "\n",
    "bymonth = cumulative.groupby(pd.Grouper(level='date', freq='M')).max()\n",
    "# bymonth.dropna(how='all', inplace=True)\n",
    "\n",
    "subset =~bymonth.isnull().all(axis=1)\n",
    "bymonth[subset] = bymonth[subset].fillna(method='ffill')\n",
    "\n",
    "bymonth['total'] = bymonth.sum(1)\n",
    "\n",
    "plt.figure()\n",
    "# Create a figure with a single subplot\n",
    "f, ax = plt.subplots(1, figsize=(10,5))\n",
    "ax.fill_between(bymonth.index, 0, bymonth['DIFFUSE'], label='diffuse')\n",
    "ax.fill_between(bymonth.index, bymonth['DIFFUSE'], bymonth['IMAGING']+bymonth['DIFFUSE'],  label='imaging')\n",
    "ax.fill_between(bymonth.index, bymonth['IMAGING']+bymonth['DIFFUSE'], bymonth['DOPPLER']+bymonth['IMAGING']+bymonth['DIFFUSE'], label='doppler')\n",
    "ax.plot(bymonth.index, bymonth['total'],color='k')\n",
    "ax.set_xlabel('Date')\n",
    "ax.set_ylabel('TiB')\n",
    "ax.set_title('Accumulated raw COVIS data')\n",
    "ax.legend()\n",
    "plt.show()"
   ]
  },
  {
   "cell_type": "code",
   "execution_count": 143,
   "metadata": {
    "collapsed": false
   },
   "outputs": [
    {
     "name": "stdout",
     "output_type": "stream",
     "text": [
      "[ 0.02603229  2.27883494]\n",
      "Growth rate 0.208258 GiB / day\n"
     ]
    }
   ],
   "source": [
    "from datetime import datetime\n",
    "\n",
    "## Pull out subset for linear regression\n",
    "subset = bymonth[ datetime(2012,1,1):datetime(2013,6,1) ].copy()\n",
    "subset['dt'] = (subset.index - subset.index[0]).days\n",
    "\n",
    "lm = np.polyfit( subset.dt, subset.total, 1 )\n",
    "print(lm)\n",
    "slope = np.asscalar(lm[0])\n",
    "\n",
    "print(\"Growth rate %f GiB / day\" % (slope * np.float64(2^10)))\n"
   ]
  },
  {
   "cell_type": "code",
   "execution_count": null,
   "metadata": {
    "collapsed": true
   },
   "outputs": [],
   "source": []
  }
 ],
 "metadata": {
  "kernelspec": {
   "display_name": "Python 3",
   "language": "python",
   "name": "python3"
  },
  "language_info": {
   "codemirror_mode": {
    "name": "ipython",
    "version": 3
   },
   "file_extension": ".py",
   "mimetype": "text/x-python",
   "name": "python",
   "nbconvert_exporter": "python",
   "pygments_lexer": "ipython3",
   "version": "3.6.0"
  }
 },
 "nbformat": 4,
 "nbformat_minor": 2
}
