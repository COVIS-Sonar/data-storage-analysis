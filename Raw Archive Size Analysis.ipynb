{
 "cells": [
  {
   "cell_type": "code",
   "execution_count": 1,
   "metadata": {
    "collapsed": false
   },
   "outputs": [],
   "source": [
    "import pandas as pd\n",
    "import numpy as np\n",
    "\n",
    "% matplotlib inline\n",
    "import matplotlib.pyplot as plt\n",
    "\n",
    "from datetime import datetime\n",
    "\n",
    "from pandas.tseries.offsets import *"
   ]
  },
  {
   "cell_type": "code",
   "execution_count": 48,
   "metadata": {
    "collapsed": false,
    "scrolled": true
   },
   "outputs": [
    {
     "name": "stdout",
     "output_type": "stream",
     "text": [
      "11.3796587413\n"
     ]
    }
   ],
   "source": [
    "filenames = [ 'raw-data/covis-nas1.txt', \\\n",
    "        'raw-data/covis-nas3.txt', \\\n",
    "        'raw-data/covis-nas6.txt' ]\n",
    "\n",
    "fsz = [pd.read_csv(f, delim_whitespace=True, header=0, names=['nas','bytes','filename']) for f in filenames]\n",
    "\n",
    "files = pd.concat(fsz)\n",
    "\n",
    "\n",
    "print(files['bytes'].sum() / 2**40)"
   ]
  },
  {
   "cell_type": "code",
   "execution_count": 49,
   "metadata": {
    "collapsed": false
   },
   "outputs": [],
   "source": [
    "ts = pd.DataFrame()\n",
    "ts['str'] = files['filename'].str.extract('([\\.\\/a-zA-Z0-9]*)_([0-9T]*)', expand=True)[1]\n",
    "files['datetime'] = pd.to_datetime(ts['str'], format='%Y%m%dT%H%M%S')\n",
    "\n",
    "## Extract type\n",
    "files['datatype'] = files['filename'].str.extract('([\\.\\/\\w]*)-([A-Z]*)', expand=True)[1]\n",
    "\n",
    "##files = files.set_index('datetime')\n",
    "\n"
   ]
  },
  {
   "cell_type": "code",
   "execution_count": 50,
   "metadata": {
    "collapsed": false
   },
   "outputs": [
    {
     "name": "stdout",
     "output_type": "stream",
     "text": [
      "Type = IMAGING\n",
      "Mean = 460387265.526632 bytes, stddev = 120887518.678263 bytes\n",
      "     = 439.059511 MiB, 115.287322 MiB\n"
     ]
    },
    {
     "data": {
      "image/png": "[encoded data removed]",
      "text/plain": [
       "<matplotlib.figure.Figure at 0x116f6eba8>"
      ]
     },
     "metadata": {},
     "output_type": "display_data"
    },
    {
     "name": "stdout",
     "output_type": "stream",
     "text": [
      "Type = DOPPLER\n",
      "Mean = 3063596366.132668 bytes, stddev = 565156996.348745 bytes\n",
      "     = 2921.673170 MiB, 538.975712 MiB\n"
     ]
    },
    {
     "data": {
      "image/png": "[encoded data removed]",
      "text/plain": [
       "<matplotlib.figure.Figure at 0x117abb780>"
      ]
     },
     "metadata": {},
     "output_type": "display_data"
    },
    {
     "name": "stdout",
     "output_type": "stream",
     "text": [
      "Type = DIFFUSE\n",
      "Mean = 3046378.021563 bytes, stddev = 170845.703605 bytes\n",
      "     = 2.905252 MiB, 0.162931 MiB\n"
     ]
    },
    {
     "data": {
      "image/png": "[encoded data removed]",
      "text/plain": [
       "<matplotlib.figure.Figure at 0x1175f2cc0>"
      ]
     },
     "metadata": {},
     "output_type": "display_data"
    }
   ],
   "source": [
    "datatypes = ['IMAGING', 'DOPPLER', 'DIFFUSE']\n",
    "files['mib'] = files['bytes'] / 2**20\n",
    "\n",
    "for dt in datatypes:\n",
    "    print(\"Type = %s\" % dt)\n",
    "        \n",
    "    relevant = files[ files['datatype'] == dt ]\n",
    "        \n",
    "    mean_size = relevant['bytes'].mean()\n",
    "    std_size = relevant['bytes'].std()\n",
    "    print(\"Mean = %f bytes, stddev = %f bytes\" % (mean_size, std_size) )\n",
    "    print(\"     = %f MiB, %f MiB\" % (relevant['mib'].mean(), relevant['mib'].std()))\n",
    "\n",
    "    plt.figure()\n",
    "    weights = np.ones_like(relevant['mib'])/float(len(relevant['mib']))\n",
    "    plt.hist( relevant['mib'],normed=False, weights=weights)\n",
    "    plt.ylim(0.0,1.0)\n",
    "    plt.ylabel('Frequency')\n",
    "    plt.xlabel('MiB')\n",
    "    plt.show()"
   ]
  },
  {
   "cell_type": "code",
   "execution_count": 51,
   "metadata": {
    "collapsed": false
   },
   "outputs": [
    {
     "name": "stdout",
     "output_type": "stream",
     "text": [
      "(10906, 6)\n",
      "Empty DataFrame\n",
      "Columns: [nas, bytes, filename, datetime, datatype, mib]\n",
      "Index: []\n",
      "(10906, 6)\n"
     ]
    }
   ],
   "source": [
    "print(files.shape)\n",
    "\n",
    "duplicates = files[ files.duplicated(subset='datetime') ]\n",
    "print(duplicates)\n",
    "\n",
    "dedup = files.drop_duplicates(subset='datetime')\n",
    "print(dedup.shape)\n",
    "\n",
    "dedup['count'] = 1\n",
    "dedup['date'] = dedup['datetime'].dt.date\n",
    "byday = dedup.groupby(['datatype','date']).sum()\n",
    "\n"
   ]
  },
  {
   "cell_type": "code",
   "execution_count": 6,
   "metadata": {
    "collapsed": false
   },
   "outputs": [
    {
     "name": "stdout",
     "output_type": "stream",
     "text": [
      "                     nas       bytes          mib  count\n",
      "datatype date                                           \n",
      "DIFFUSE  2011-09-28    8    24991772    23.834011      8\n",
      "         2011-09-29    8    25668923    24.479793      8\n",
      "         2011-09-30    8    25079022    23.917219      8\n",
      "         2011-10-01    8    25434240    24.255981      8\n",
      "         2011-10-02    8    25539869    24.356717      8\n",
      "         2011-10-03    8    25536850    24.353838      8\n",
      "         2011-10-04    8    25397544    24.220985      8\n",
      "         2011-10-05    8    25491402    24.310495      8\n",
      "         2011-10-06    8    25481766    24.301306      8\n",
      "         2011-10-07    8    25571698    24.387072      8\n",
      "         2011-10-08    8    25658564    24.469913      8\n",
      "         2011-10-09    8    25694496    24.504181      8\n",
      "         2011-10-10    8    25615475    24.428821      8\n",
      "         2011-10-11    8    25733741    24.541608      8\n",
      "         2011-10-12    8    25744417    24.551789      8\n",
      "         2011-10-13    8    25795213    24.600232      8\n",
      "         2011-10-14    8    25572858    24.388178      8\n",
      "         2011-10-15    8    25522153    24.339822      8\n",
      "         2011-10-16    8    25708120    24.517174      8\n",
      "         2011-10-17    8    25645973    24.457906      8\n",
      "         2011-10-18    8    25897501    24.697782      8\n",
      "         2011-10-19    8    25883664    24.684586      8\n",
      "         2011-10-20    5    15714794    14.986795      5\n",
      "         2011-10-21    6    19296571    18.402644      6\n",
      "         2011-10-22    8    25915419    24.714869      8\n",
      "         2011-10-23    8    25750244    24.557346      8\n",
      "         2011-10-24    8    25555109    24.371251      8\n",
      "         2011-10-25    8    25716761    24.525414      8\n",
      "         2011-10-26    8    25831169    24.634522      8\n",
      "         2011-10-27    8    25639816    24.452034      8\n",
      "...                  ...         ...          ...    ...\n",
      "IMAGING  2015-02-11   48  4053556386  3865.772615      8\n",
      "         2015-02-12   48  4079428436  3890.446125      8\n",
      "         2015-02-13   48  4130593975  3939.241385      8\n",
      "         2015-02-14   48  4079741749  3890.744924      8\n",
      "         2015-02-15   48  4082643218  3893.511980      8\n",
      "         2015-02-16   48  4080463396  3891.433140      8\n",
      "         2015-02-17   48  4076368098  3887.527559      8\n",
      "         2015-02-18   48  4103716492  3913.609020      8\n",
      "         2015-02-19   48  4064486921  3876.196786      8\n",
      "         2015-02-20   48  4052846479  3865.095595      8\n",
      "         2015-02-21   48  4059749203  3871.678546      8\n",
      "         2015-02-22   48  4093566534  3903.929266      8\n",
      "         2015-02-23   48  4080008128  3890.998962      8\n",
      "         2015-02-24   48  4091797326  3902.242018      8\n",
      "         2015-02-25   48  4085033284  3895.791325      8\n",
      "         2015-02-26   24  2060847082  1965.376932      4\n",
      "         2015-02-27   48  4099100281  3909.206658      8\n",
      "         2015-02-28   12  1031223770   983.451624      2\n",
      "         2015-03-01   36  3098760747  2955.208537      6\n",
      "         2015-03-02   18  1518934212  1448.568546      3\n",
      "         2015-03-03   30  2553448847  2435.158584      5\n",
      "         2015-03-04   30  2570447332  2451.369602      5\n",
      "         2015-03-05   24  2036440992  1942.101471      4\n",
      "         2015-03-06   12  1020988753   973.690751      2\n",
      "         2015-03-07    6   509380618   485.783213      1\n",
      "         2015-03-08   30  2537484116  2419.933430      5\n",
      "         2015-03-09    6   518618809   494.593438      1\n",
      "         2015-03-10   24  2060759684  1965.293583      4\n",
      "         2015-03-11   18  1541899270  1470.469732      3\n",
      "         2015-03-12    6   507120712   483.627998      1\n",
      "\n",
      "[2234 rows x 4 columns]\n"
     ]
    }
   ],
   "source": [
    "print(byday)"
   ]
  },
  {
   "cell_type": "code",
   "execution_count": 7,
   "metadata": {
    "collapsed": false
   },
   "outputs": [
    {
     "data": {
      "text/plain": [
       "<matplotlib.figure.Figure at 0x11621d3c8>"
      ]
     },
     "metadata": {},
     "output_type": "display_data"
    },
    {
     "data": {
      "image/png": "[encoded data removed]",
      "text/plain": [
       "<matplotlib.figure.Figure at 0x11621dba8>"
      ]
     },
     "metadata": {},
     "output_type": "display_data"
    }
   ],
   "source": [
    "cumulative = pd.DataFrame(index=pd.to_datetime(byday.index.get_level_values(1)) )\n",
    "\n",
    "\n",
    "for dt in datatypes:  \n",
    "    relevant = byday.loc[dt]  \n",
    "    cumulative[dt] = relevant['mib'].cumsum()/2**20\n",
    "\n",
    "#     mean_size = relevant['bytes'].mean()\n",
    "#     std_size = relevant['bytes'].std()\n",
    "#     print(\"Mean = %f bytes, stddev = %f bytes\" % (mean_size, std_size) )\n",
    "#     print(\"     = %f MiB, %f MiB\" % (relevant['mib'].mean(), relevant['mib'].std()))\n",
    "\n",
    "#     plt.figure()\n",
    "#     weights = np.ones_like(relevant['mib'])/float(len(relevant['mib']))\n",
    "#     plt.hist( relevant['mib'],normed=False, weights=weights)\n",
    "#     plt.ylim(0.0,1.0)\n",
    "#     plt.ylabel('Frequency')\n",
    "#     plt.xlabel('MiB')\n",
    "#     plt.show()\n",
    "\n",
    "\n",
    "bymonth = cumulative.groupby(pd.Grouper(level='date', freq='M')).max()\n",
    "# bymonth.dropna(how='all', inplace=True)\n",
    "\n",
    "subset =~bymonth.isnull().all(axis=1)\n",
    "bymonth[subset] = bymonth[subset].fillna(method='ffill')\n",
    "\n",
    "bymonth['total'] = bymonth.sum(1)\n",
    "\n",
    "plt.figure()\n",
    "# Create a figure with a single subplot\n",
    "f, ax = plt.subplots(1, figsize=(10,5))\n",
    "ax.fill_between(bymonth.index, 0, bymonth['DIFFUSE'], label='diffuse')\n",
    "ax.fill_between(bymonth.index, bymonth['DIFFUSE'], bymonth['IMAGING']+bymonth['DIFFUSE'],  label='imaging')\n",
    "ax.fill_between(bymonth.index, bymonth['IMAGING']+bymonth['DIFFUSE'], bymonth['DOPPLER']+bymonth['IMAGING']+bymonth['DIFFUSE'], label='doppler')\n",
    "ax.plot(bymonth.index, bymonth['total'],color='k')\n",
    "ax.set_xlabel('Date')\n",
    "ax.set_ylabel('TiB')\n",
    "ax.set_title('Accumulated raw COVIS data')\n",
    "ax.legend()\n",
    "plt.show()"
   ]
  },
  {
   "cell_type": "code",
   "execution_count": 26,
   "metadata": {
    "collapsed": false
   },
   "outputs": [
    {
     "name": "stdout",
     "output_type": "stream",
     "text": [
      "[ 0.02603229  2.27883494]\n",
      "Growth rate 26.657062 GiB / day\n"
     ]
    }
   ],
   "source": [
    "from datetime import datetime\n",
    "\n",
    "## Pull out subset for linear regression\n",
    "subset = bymonth[ datetime(2012,1,1):datetime(2013,6,1) ].copy()\n",
    "subset['dt'] = (subset.index - subset.index[0]).days\n",
    "\n",
    "lm = np.polyfit( subset.dt, subset.total, 1 )\n",
    "print(lm)\n",
    "slope = np.asscalar(lm[0]) * 2**10  # In gb/day\n",
    "\n",
    "print(\"Growth rate %f GiB / day\" % (slope))\n"
   ]
  },
  {
   "cell_type": "code",
   "execution_count": 34,
   "metadata": {
    "collapsed": false
   },
   "outputs": [
    {
     "name": "stdout",
     "output_type": "stream",
     "text": [
      "                  dt       gibytes    tibytes\n",
      "2018-07-31    0 days      0.000000   0.000000\n",
      "2018-08-31   31 days    826.368922   0.807001\n",
      "2018-09-30   61 days   1626.080781   1.587970\n",
      "2018-10-31   92 days   2452.449703   2.394970\n",
      "2018-11-30  122 days   3252.161562   3.175939\n",
      "2018-12-31  153 days   4078.530484   3.982940\n",
      "2019-01-31  184 days   4904.899405   4.789941\n",
      "2019-02-28  212 days   5651.297141   5.518845\n",
      "2019-03-31  243 days   6477.666062   6.325846\n",
      "2019-04-30  273 days   7277.377922   7.106814\n",
      "2019-05-31  304 days   8103.746844   7.913815\n",
      "2019-06-30  334 days   8903.458703   8.694784\n",
      "2019-07-31  365 days   9729.827625   9.501785\n",
      "2019-08-31  396 days  10556.196546  10.308786\n",
      "2019-09-30  426 days  11355.908406  11.089754\n",
      "2019-10-31  457 days  12182.277327  11.896755\n",
      "2019-11-30  487 days  12981.989187  12.677724\n",
      "2019-12-31  518 days  13808.358108  13.484725\n",
      "2020-01-31  549 days  14634.727030  14.291726\n",
      "2020-02-29  578 days  15407.781828  15.046662\n",
      "2020-03-31  609 days  16234.150749  15.853663\n",
      "2020-04-30  639 days  17033.862609  16.634631\n",
      "2020-05-31  670 days  17860.231530  17.441632\n",
      "2020-06-30  700 days  18659.943390  18.222601\n",
      "2020-07-31  731 days  19486.312311  19.029602\n",
      "2020-08-31  762 days  20312.681233  19.836603\n",
      "2020-09-30  792 days  21112.393092  20.617571\n",
      "2020-10-31  823 days  21938.762014  21.424572\n",
      "2020-11-30  853 days  22738.473874  22.205541\n",
      "2020-12-31  884 days  23564.842795  23.012542\n",
      "2021-01-31  915 days  24391.211717  23.819543\n",
      "2021-02-28  943 days  25137.609452  24.548447\n",
      "2021-03-31  974 days  25963.978374  25.355448\n",
      "2021-04-30 1004 days  26763.690233  26.136416\n",
      "2021-05-31 1035 days  27590.059155  26.943417\n",
      "2021-06-30 1065 days  28389.771014  27.724386\n",
      "2021-07-31 1096 days  29216.139936  28.531387\n",
      "2021-08-31 1127 days  30042.508858  29.338388\n",
      "2021-09-30 1157 days  30842.220717  30.119356\n",
      "2021-10-31 1188 days  31668.589639  30.926357\n",
      "2021-11-30 1218 days  32468.301498  31.707326\n",
      "2021-12-31 1249 days  33294.670420  32.514327\n",
      "2022-01-31 1280 days  34121.039341  33.321327\n",
      "2022-02-28 1308 days  34867.437077  34.050232\n",
      "2022-03-31 1339 days  35693.805998  34.857232\n",
      "2022-04-30 1369 days  36493.517858  35.638201\n",
      "2022-05-31 1400 days  37319.886780  36.445202\n",
      "2022-06-30 1430 days  38119.598639  37.226171\n"
     ]
    }
   ],
   "source": [
    "mission_duration = pd.Timedelta(4 * 365)\n",
    "\n",
    "rng = pd.date_range('7/1/2018', '7/1/2022', freq='M')\n",
    "data_volume = pd.DataFrame(index=rng)\n",
    "data_volume['dt'] = data_volume.index - data_volume.index.min()\n",
    "data_volume['gibytes'] = data_volume['dt'].apply(lambda x: x.days) * slope\n",
    "data_volume['tibytes'] = data_volume['gibytes'] / 2**10\n",
    "\n",
    "print(data_volume)"
   ]
  },
  {
   "cell_type": "code",
   "execution_count": null,
   "metadata": {
    "collapsed": true
   },
   "outputs": [],
   "source": []
  }
 ],
 "metadata": {
  "kernelspec": {
   "display_name": "Python 3",
   "language": "python",
   "name": "python3"
  },
  "language_info": {
   "codemirror_mode": {
    "name": "ipython",
    "version": 3
   },
   "file_extension": ".py",
   "mimetype": "text/x-python",
   "name": "python",
   "nbconvert_exporter": "python",
   "pygments_lexer": "ipython3",
   "version": "3.6.0"
  }
 },
 "nbformat": 4,
 "nbformat_minor": 2
}
