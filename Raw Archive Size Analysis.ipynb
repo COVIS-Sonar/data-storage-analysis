{
 "cells": [
  {
   "cell_type": "code",
   "execution_count": 2,
   "metadata": {
    "collapsed": false
   },
   "outputs": [],
   "source": [
    "import pandas as pd\n",
    "import numpy as np\n",
    "\n",
    "% matplotlib inline\n",
    "import matplotlib.pyplot as plt\n",
    "\n",
    "from datetime import datetime\n",
    "\n",
    "from pandas.tseries.offsets import *"
   ]
  },
  {
   "cell_type": "markdown",
   "metadata": {},
   "source": [
    "## Load all data and do pre-processing"
   ]
  },
  {
   "cell_type": "code",
   "execution_count": 4,
   "metadata": {
    "collapsed": false
   },
   "outputs": [
    {
     "name": "stdout",
     "output_type": "stream",
     "text": [
      "Total of 24.241278 TiB\n",
      "Dropped 26409 duplicates\n",
      "                              nas       bytes  \\\n",
      "datatype datetime                               \n",
      "DOPPLER  2011-10-01 09:35:33    1  1625146616   \n",
      "DIFFUSE  2011-10-01 12:59:23    1     3224599   \n",
      "         2011-10-01 18:59:31    1     3231845   \n",
      "DOPPLER  2011-10-01 15:35:34    1  1587003908   \n",
      "         2011-10-01 12:11:52    1  1581885971   \n",
      "IMAGING  2011-10-01 18:04:30    1   160634205   \n",
      "DOPPLER  2011-10-01 21:11:37    1  1614996135   \n",
      "         2011-10-01 18:35:56    1  1609607342   \n",
      "DIFFUSE  2011-10-01 01:00:00    1     3140924   \n",
      "DOPPLER  2011-10-01 06:35:50    1  1637845830   \n",
      "IMAGING  2011-10-01 21:07:57    1   163650038   \n",
      "DIFFUSE  2011-10-01 21:59:09    1     3199800   \n",
      "IMAGING  2011-10-01 06:00:39    1   159311472   \n",
      "         2011-10-01 03:00:39    1   158660859   \n",
      "         2011-10-01 09:07:56    1   164401747   \n",
      "         2011-10-01 00:08:40    1   157726854   \n",
      "         2011-10-01 12:08:15    1   158609330   \n",
      "         2011-10-01 03:04:23    1   159952945   \n",
      "DIFFUSE  2011-10-01 15:59:09    1     3112131   \n",
      "IMAGING  2011-10-01 18:08:19    1   161123189   \n",
      "         2011-10-01 15:08:00    1   155478554   \n",
      "DIFFUSE  2011-10-01 03:59:11    1     3147350   \n",
      "IMAGING  2011-10-01 06:04:27    1   160882248   \n",
      "         2011-10-01 09:00:40    1   160347422   \n",
      "DOPPLER  2011-10-01 12:35:47    1  1595866732   \n",
      "IMAGING  2011-10-01 12:04:28    1   158942882   \n",
      "         2011-10-01 12:00:40    1   156573978   \n",
      "DOPPLER  2011-10-01 00:36:25    1  1597735887   \n",
      "IMAGING  2011-10-01 21:00:39    1   161527890   \n",
      "DOPPLER  2011-10-01 03:11:40    1  1580160938   \n",
      "...                           ...         ...   \n",
      "IMAGING  2012-10-08 18:00:41    6   503576379   \n",
      "         2012-10-08 21:00:41    6   513027674   \n",
      "DIFFUSE  2012-10-08 18:54:44    6     3067685   \n",
      "         2012-10-08 21:54:18    6     2985217   \n",
      "DOPPLER  2012-10-08 18:10:21    6  3266581049   \n",
      "         2012-10-08 21:10:16    6  3223924716   \n",
      "IMAGING  2012-10-09 00:00:41    6   516120192   \n",
      "         2012-10-09 03:00:42    6   529370641   \n",
      "DIFFUSE  2012-10-09 00:54:54    6     3041255   \n",
      "         2012-10-09 03:54:34    6     3028822   \n",
      "DOPPLER  2012-10-09 00:10:23    6  3251649052   \n",
      "         2012-10-09 03:10:22    6  3232021857   \n",
      "IMAGING  2012-10-09 06:00:42    6   506430351   \n",
      "         2012-10-09 09:00:42    6   496999306   \n",
      "DIFFUSE  2012-10-09 06:54:27    6     3014307   \n",
      "         2012-10-09 09:54:37    6     3013725   \n",
      "DOPPLER  2012-10-09 06:10:12    6  3216327325   \n",
      "         2012-10-09 09:10:16    6  3201282872   \n",
      "IMAGING  2012-10-09 12:00:41    6   490202112   \n",
      "         2012-10-09 15:00:42    6   500384054   \n",
      "DIFFUSE  2012-10-09 12:54:30    6     3022537   \n",
      "         2012-10-09 15:54:57    6     3048050   \n",
      "DOPPLER  2012-10-09 12:10:19    6  3173858398   \n",
      "         2012-10-09 15:10:29    6  3249399991   \n",
      "IMAGING  2012-10-09 18:00:42    6   504747241   \n",
      "         2012-10-09 21:00:43    6   501357614   \n",
      "DIFFUSE  2012-10-09 18:54:36    6     3044377   \n",
      "         2012-10-09 21:54:37    6     3064879   \n",
      "DOPPLER  2012-10-09 18:10:22    6  3225086170   \n",
      "         2012-10-09 21:10:22    6  3243492559   \n",
      "\n",
      "                                                                       filename  \n",
      "datatype datetime                                                                \n",
      "DOPPLER  2011-10-01 09:35:33  ./2011/10/01/APLUWCOVISMBSONAR001_20111001T093...  \n",
      "DIFFUSE  2011-10-01 12:59:23  ./2011/10/01/APLUWCOVISMBSONAR001_20111001T125...  \n",
      "         2011-10-01 18:59:31  ./2011/10/01/APLUWCOVISMBSONAR001_20111001T185...  \n",
      "DOPPLER  2011-10-01 15:35:34  ./2011/10/01/APLUWCOVISMBSONAR001_20111001T153...  \n",
      "         2011-10-01 12:11:52  ./2011/10/01/APLUWCOVISMBSONAR001_20111001T121...  \n",
      "IMAGING  2011-10-01 18:04:30  ./2011/10/01/APLUWCOVISMBSONAR001_20111001T180...  \n",
      "DOPPLER  2011-10-01 21:11:37  ./2011/10/01/APLUWCOVISMBSONAR001_20111001T211...  \n",
      "         2011-10-01 18:35:56  ./2011/10/01/APLUWCOVISMBSONAR001_20111001T183...  \n",
      "DIFFUSE  2011-10-01 01:00:00  ./2011/10/01/APLUWCOVISMBSONAR001_20111001T010...  \n",
      "DOPPLER  2011-10-01 06:35:50  ./2011/10/01/APLUWCOVISMBSONAR001_20111001T063...  \n",
      "IMAGING  2011-10-01 21:07:57  ./2011/10/01/APLUWCOVISMBSONAR001_20111001T210...  \n",
      "DIFFUSE  2011-10-01 21:59:09  ./2011/10/01/APLUWCOVISMBSONAR001_20111001T215...  \n",
      "IMAGING  2011-10-01 06:00:39  ./2011/10/01/APLUWCOVISMBSONAR001_20111001T060...  \n",
      "         2011-10-01 03:00:39  ./2011/10/01/APLUWCOVISMBSONAR001_20111001T030...  \n",
      "         2011-10-01 09:07:56  ./2011/10/01/APLUWCOVISMBSONAR001_20111001T090...  \n",
      "         2011-10-01 00:08:40  ./2011/10/01/APLUWCOVISMBSONAR001_20111001T000...  \n",
      "         2011-10-01 12:08:15  ./2011/10/01/APLUWCOVISMBSONAR001_20111001T120...  \n",
      "         2011-10-01 03:04:23  ./2011/10/01/APLUWCOVISMBSONAR001_20111001T030...  \n",
      "DIFFUSE  2011-10-01 15:59:09  ./2011/10/01/APLUWCOVISMBSONAR001_20111001T155...  \n",
      "IMAGING  2011-10-01 18:08:19  ./2011/10/01/APLUWCOVISMBSONAR001_20111001T180...  \n",
      "         2011-10-01 15:08:00  ./2011/10/01/APLUWCOVISMBSONAR001_20111001T150...  \n",
      "DIFFUSE  2011-10-01 03:59:11  ./2011/10/01/APLUWCOVISMBSONAR001_20111001T035...  \n",
      "IMAGING  2011-10-01 06:04:27  ./2011/10/01/APLUWCOVISMBSONAR001_20111001T060...  \n",
      "         2011-10-01 09:00:40  ./2011/10/01/APLUWCOVISMBSONAR001_20111001T090...  \n",
      "DOPPLER  2011-10-01 12:35:47  ./2011/10/01/APLUWCOVISMBSONAR001_20111001T123...  \n",
      "IMAGING  2011-10-01 12:04:28  ./2011/10/01/APLUWCOVISMBSONAR001_20111001T120...  \n",
      "         2011-10-01 12:00:40  ./2011/10/01/APLUWCOVISMBSONAR001_20111001T120...  \n",
      "DOPPLER  2011-10-01 00:36:25  ./2011/10/01/APLUWCOVISMBSONAR001_20111001T003...  \n",
      "IMAGING  2011-10-01 21:00:39  ./2011/10/01/APLUWCOVISMBSONAR001_20111001T210...  \n",
      "DOPPLER  2011-10-01 03:11:40  ./2011/10/01/APLUWCOVISMBSONAR001_20111001T031...  \n",
      "...                                                                         ...  \n",
      "IMAGING  2012-10-08 18:00:41  ./2012/10/08/APLUWCOVISMBSONAR001_20121008T180...  \n",
      "         2012-10-08 21:00:41  ./2012/10/08/APLUWCOVISMBSONAR001_20121008T210...  \n",
      "DIFFUSE  2012-10-08 18:54:44  ./2012/10/08/APLUWCOVISMBSONAR001_20121008T185...  \n",
      "         2012-10-08 21:54:18  ./2012/10/08/APLUWCOVISMBSONAR001_20121008T215...  \n",
      "DOPPLER  2012-10-08 18:10:21  ./2012/10/08/APLUWCOVISMBSONAR001_20121008T181...  \n",
      "         2012-10-08 21:10:16  ./2012/10/08/APLUWCOVISMBSONAR001_20121008T211...  \n",
      "IMAGING  2012-10-09 00:00:41  ./2012/10/09/APLUWCOVISMBSONAR001_20121009T000...  \n",
      "         2012-10-09 03:00:42  ./2012/10/09/APLUWCOVISMBSONAR001_20121009T030...  \n",
      "DIFFUSE  2012-10-09 00:54:54  ./2012/10/09/APLUWCOVISMBSONAR001_20121009T005...  \n",
      "         2012-10-09 03:54:34  ./2012/10/09/APLUWCOVISMBSONAR001_20121009T035...  \n",
      "DOPPLER  2012-10-09 00:10:23  ./2012/10/09/APLUWCOVISMBSONAR001_20121009T001...  \n",
      "         2012-10-09 03:10:22  ./2012/10/09/APLUWCOVISMBSONAR001_20121009T031...  \n",
      "IMAGING  2012-10-09 06:00:42  ./2012/10/09/APLUWCOVISMBSONAR001_20121009T060...  \n",
      "         2012-10-09 09:00:42  ./2012/10/09/APLUWCOVISMBSONAR001_20121009T090...  \n",
      "DIFFUSE  2012-10-09 06:54:27  ./2012/10/09/APLUWCOVISMBSONAR001_20121009T065...  \n",
      "         2012-10-09 09:54:37  ./2012/10/09/APLUWCOVISMBSONAR001_20121009T095...  \n",
      "DOPPLER  2012-10-09 06:10:12  ./2012/10/09/APLUWCOVISMBSONAR001_20121009T061...  \n",
      "         2012-10-09 09:10:16  ./2012/10/09/APLUWCOVISMBSONAR001_20121009T091...  \n",
      "IMAGING  2012-10-09 12:00:41  ./2012/10/09/APLUWCOVISMBSONAR001_20121009T120...  \n",
      "         2012-10-09 15:00:42  ./2012/10/09/APLUWCOVISMBSONAR001_20121009T150...  \n",
      "DIFFUSE  2012-10-09 12:54:30  ./2012/10/09/APLUWCOVISMBSONAR001_20121009T125...  \n",
      "         2012-10-09 15:54:57  ./2012/10/09/APLUWCOVISMBSONAR001_20121009T155...  \n",
      "DOPPLER  2012-10-09 12:10:19  ./2012/10/09/APLUWCOVISMBSONAR001_20121009T121...  \n",
      "         2012-10-09 15:10:29  ./2012/10/09/APLUWCOVISMBSONAR001_20121009T151...  \n",
      "IMAGING  2012-10-09 18:00:42  ./2012/10/09/APLUWCOVISMBSONAR001_20121009T180...  \n",
      "         2012-10-09 21:00:43  ./2012/10/09/APLUWCOVISMBSONAR001_20121009T210...  \n",
      "DIFFUSE  2012-10-09 18:54:36  ./2012/10/09/APLUWCOVISMBSONAR001_20121009T185...  \n",
      "         2012-10-09 21:54:37  ./2012/10/09/APLUWCOVISMBSONAR001_20121009T215...  \n",
      "DOPPLER  2012-10-09 18:10:22  ./2012/10/09/APLUWCOVISMBSONAR001_20121009T181...  \n",
      "         2012-10-09 21:10:22  ./2012/10/09/APLUWCOVISMBSONAR001_20121009T211...  \n",
      "\n",
      "[37522 rows x 3 columns]\n"
     ]
    }
   ],
   "source": [
    "filenames = [ 'raw-data/covis-nas1.txt', \\\n",
    "        'raw-data/covis-nas3.txt', \\\n",
    "        'raw-data/covis-nas5.txt', \\\n",
    "        'raw-data/covis-nas6.txt' ]\n",
    "\n",
    "fsz = [pd.read_csv(f, delim_whitespace=True, header=None, names=['nas','bytes','filename']) for f in filenames]\n",
    "files = pd.concat(fsz)\n",
    "\n",
    "print(\"Total of %f TiB\" % (files['bytes'].sum() / 2**40))\n",
    "\n",
    "ts = pd.DataFrame()\n",
    "split = files['filename'].str.extract('[\\.\\/a-zA-Z0-9]*_([0-9T]*)\\.[0-9Z\\-]*([A-Z]*)', expand=True)\n",
    "\n",
    "files['datetime'] = pd.to_datetime(split[0], format='%Y%m%dT%H%M%S')\n",
    "files['datatype'] = split[1]\n",
    "\n",
    "datatypes = files['datatype'].drop_duplicates().values\n",
    "\n",
    "before = files.shape[0]\n",
    "files = files.drop_duplicates(subset='datetime')\n",
    "print(\"Dropped %d duplicates\" % (before-files.shape[0]) )\n",
    "\n",
    "\n",
    "## Reindex on datatype and date\n",
    "files.set_index(['datatype','datetime'], inplace=True)\n",
    "print(files)\n"
   ]
  },
  {
   "cell_type": "code",
   "execution_count": 5,
   "metadata": {
    "collapsed": false,
    "scrolled": true
   },
   "outputs": [
    {
     "name": "stdout",
     "output_type": "stream",
     "text": [
      "                            bytes  count\n",
      "datatype datetime                       \n",
      "DIFFUSE  2011-09-28  2.499177e+07    8.0\n",
      "         2011-09-29  2.566892e+07    8.0\n",
      "         2011-09-30  2.507902e+07    8.0\n",
      "         2011-10-01  2.543424e+07    8.0\n",
      "         2011-10-02  2.553987e+07    8.0\n",
      "         2011-10-03  2.553685e+07    8.0\n",
      "         2011-10-04  2.539754e+07    8.0\n",
      "         2011-10-05  2.549140e+07    8.0\n",
      "         2011-10-06  2.548177e+07    8.0\n",
      "         2011-10-07  2.557170e+07    8.0\n",
      "         2011-10-08  2.565856e+07    8.0\n",
      "         2011-10-09  2.569450e+07    8.0\n",
      "         2011-10-10  2.561548e+07    8.0\n",
      "         2011-10-11  2.573374e+07    8.0\n",
      "         2011-10-12  2.574442e+07    8.0\n",
      "         2011-10-13  2.579521e+07    8.0\n",
      "         2011-10-14  2.557286e+07    8.0\n",
      "         2011-10-15  2.552215e+07    8.0\n",
      "         2011-10-16  2.570812e+07    8.0\n",
      "         2011-10-17  2.564597e+07    8.0\n",
      "         2011-10-18  2.589750e+07    8.0\n",
      "         2011-10-19  2.588366e+07    8.0\n",
      "         2011-10-20  1.571479e+07    5.0\n",
      "         2011-10-21  1.929657e+07    6.0\n",
      "         2011-10-22  2.591542e+07    8.0\n",
      "         2011-10-23  2.575024e+07    8.0\n",
      "         2011-10-24  2.555511e+07    8.0\n",
      "         2011-10-25  2.571676e+07    8.0\n",
      "         2011-10-26  2.583117e+07    8.0\n",
      "         2011-10-27  2.563982e+07    8.0\n",
      "...                           ...    ...\n",
      "IMAGING  2015-02-11  4.053556e+09    8.0\n",
      "         2015-02-12  4.079428e+09    8.0\n",
      "         2015-02-13  4.130594e+09    8.0\n",
      "         2015-02-14  4.079742e+09    8.0\n",
      "         2015-02-15  4.082643e+09    8.0\n",
      "         2015-02-16  4.080463e+09    8.0\n",
      "         2015-02-17  4.076368e+09    8.0\n",
      "         2015-02-18  4.103716e+09    8.0\n",
      "         2015-02-19  4.064487e+09    8.0\n",
      "         2015-02-20  4.052846e+09    8.0\n",
      "         2015-02-21  4.059749e+09    8.0\n",
      "         2015-02-22  4.093567e+09    8.0\n",
      "         2015-02-23  4.080008e+09    8.0\n",
      "         2015-02-24  4.091797e+09    8.0\n",
      "         2015-02-25  4.085033e+09    8.0\n",
      "         2015-02-26  2.060847e+09    4.0\n",
      "         2015-02-27  4.099100e+09    8.0\n",
      "         2015-02-28  1.031224e+09    2.0\n",
      "         2015-03-01  3.098761e+09    6.0\n",
      "         2015-03-02  1.518934e+09    3.0\n",
      "         2015-03-03  2.553449e+09    5.0\n",
      "         2015-03-04  2.570447e+09    5.0\n",
      "         2015-03-05  2.036441e+09    4.0\n",
      "         2015-03-06  1.020989e+09    2.0\n",
      "         2015-03-07  5.093806e+08    1.0\n",
      "         2015-03-08  2.537484e+09    5.0\n",
      "         2015-03-09  5.186188e+08    1.0\n",
      "         2015-03-10  2.060760e+09    4.0\n",
      "         2015-03-11  1.541899e+09    3.0\n",
      "         2015-03-12  5.071207e+08    1.0\n",
      "\n",
      "[3947 rows x 2 columns]\n"
     ]
    }
   ],
   "source": [
    "## For each datatype, collect into days\n",
    "files['count'] = 1\n",
    "byday = files.groupby(level=0).apply(lambda x: x.groupby(pd.Grouper(freq='D',level=1)).sum() )\n",
    "byday.drop('nas', axis=1, inplace=True)\n",
    "\n",
    "print(byday)"
   ]
  },
  {
   "cell_type": "code",
   "execution_count": 6,
   "metadata": {
    "collapsed": false
   },
   "outputs": [
    {
     "name": "stdout",
     "output_type": "stream",
     "text": [
      "Type = DIFFUSE\n",
      "Mean = 2521314.791790 bytes, stddev = 364465.219388 bytes\n",
      "     = 2.404513 MiB, 0.347581 MiB\n"
     ]
    },
    {
     "data": {
      "image/png": "[encoded data removed]",
      "text/plain": [
       "<matplotlib.figure.Figure at 0x118cb3898>"
      ]
     },
     "metadata": {},
     "output_type": "display_data"
    },
    {
     "name": "stdout",
     "output_type": "stream",
     "text": [
      "Type = DIFFUSESLOW\n",
      "Mean = 234270023.000000 bytes, stddev = 636577.462541 bytes\n",
      "     = 223.417304 MiB, 0.607088 MiB\n"
     ]
    },
    {
     "data": {
      "image/png": "[encoded data removed]",
      "text/plain": [
       "<matplotlib.figure.Figure at 0x1182bb860>"
      ]
     },
     "metadata": {},
     "output_type": "display_data"
    },
    {
     "name": "stdout",
     "output_type": "stream",
     "text": [
      "Type = DOPPLER\n",
      "Mean = 3155286898.672161 bytes, stddev = 518339436.880821 bytes\n",
      "     = 3009.116076 MiB, 494.327008 MiB\n"
     ]
    },
    {
     "data": {
      "image/png": "[encoded data removed]",
      "text/plain": [
       "<matplotlib.figure.Figure at 0x118bb87f0>"
      ]
     },
     "metadata": {},
     "output_type": "display_data"
    },
    {
     "name": "stdout",
     "output_type": "stream",
     "text": [
      "Type = IMAGING\n",
      "Mean = 482830862.280625 bytes, stddev = 104310348.687680 bytes\n",
      "     = 460.463393 MiB, 99.478100 MiB\n"
     ]
    },
    {
     "data": {
      "image/png": "[encoded data removed]",
      "text/plain": [
       "<matplotlib.figure.Figure at 0x117cfd160>"
      ]
     },
     "metadata": {},
     "output_type": "display_data"
    },
    {
     "data": {
      "text/html": [
       "<div>\n",
       "<style>\n",
       "    .dataframe thead tr:only-child th {\n",
       "        text-align: right;\n",
       "    }\n",
       "\n",
       "    .dataframe thead th {\n",
       "        text-align: left;\n",
       "    }\n",
       "\n",
       "    .dataframe tbody tr th {\n",
       "        vertical-align: top;\n",
       "    }\n",
       "</style>\n",
       "<table border=\"1\" class=\"dataframe\">\n",
       "  <thead>\n",
       "    <tr style=\"text-align: right;\">\n",
       "      <th></th>\n",
       "    </tr>\n",
       "  </thead>\n",
       "  <tbody>\n",
       "  </tbody>\n",
       "</table>\n",
       "</div>"
      ],
      "text/plain": [
       "Empty DataFrame\n",
       "Columns: []\n",
       "Index: []"
      ]
     },
     "execution_count": 6,
     "metadata": {},
     "output_type": "execute_result"
    }
   ],
   "source": [
    "\n",
    "def plot_distribution( data ):\n",
    "    print(\"Type = %s\" % data.index.get_level_values(0).unique()[0])\n",
    "        \n",
    "    mean_size = data['bytes'].mean()\n",
    "    std_size = data['bytes'].std()\n",
    "    print(\"Mean = %f bytes, stddev = %f bytes\" % (mean_size, std_size) )\n",
    "    print(\"     = %f MiB, %f MiB\" % (mean_size / 2**20, std_size / 2**20))\n",
    "\n",
    "    plt.figure()\n",
    "    weights = np.ones_like(data['bytes'])/float(len(data['bytes']))\n",
    "    plt.hist( data['bytes']/2**20,normed=False, weights=weights)\n",
    "    plt.ylim(0.0,1.0)\n",
    "    plt.ylabel('Frequency')\n",
    "    plt.xlabel('MiB')\n",
    "    plt.show()\n",
    "    \n",
    "    \n",
    "files.groupby(level=0).apply(plot_distribution)\n",
    "\n"
   ]
  },
  {
   "cell_type": "code",
   "execution_count": 7,
   "metadata": {
    "collapsed": false
   },
   "outputs": [
    {
     "name": "stdout",
     "output_type": "stream",
     "text": [
      "                   bytes                                              count  \\\n",
      "datatype         DIFFUSE   DIFFUSESLOW       DOPPLER       IMAGING  DIFFUSE   \n",
      "datetime                                                                      \n",
      "2011-09-30  7.573972e+07  0.000000e+00  7.740288e+10  1.161155e+10     24.0   \n",
      "2011-10-31  8.510793e+08  0.000000e+00  8.470713e+11  1.321884e+11    266.0   \n",
      "2011-11-30  1.250738e+09  0.000000e+00  1.162839e+12  1.960726e+11    391.0   \n",
      "2011-12-31  2.025001e+09  0.000000e+00  1.493037e+12  3.210774e+11    636.0   \n",
      "2012-01-31  2.755058e+09  0.000000e+00  2.138055e+12  4.172772e+11    883.0   \n",
      "2012-02-29  3.429462e+09  0.000000e+00  2.787865e+12  5.094770e+11   1097.0   \n",
      "2012-03-31  4.212051e+09  0.000000e+00  3.583124e+12  6.351006e+11   1343.0   \n",
      "2012-04-30  4.972652e+09  0.000000e+00  4.362757e+12  7.576406e+11   1583.0   \n",
      "2012-05-31  5.623598e+09  0.000000e+00  5.036890e+12  8.633268e+11   1793.0   \n",
      "2012-06-30  6.363031e+09  0.000000e+00  5.798466e+12  9.844510e+11   2029.0   \n",
      "2012-07-31  7.133587e+09  0.000000e+00  6.595892e+12  1.109128e+12   2277.0   \n",
      "2012-08-31  7.900516e+09  0.000000e+00  7.397393e+12  1.234619e+12   2525.0   \n",
      "2012-09-30  8.629893e+09  0.000000e+00  8.172006e+12  1.356298e+12   2765.0   \n",
      "2012-10-31  9.339560e+09  0.000000e+00  8.921215e+12  1.473559e+12   3001.0   \n",
      "2012-11-30  9.945398e+09  0.000000e+00  9.575774e+12  1.575973e+12   3204.0   \n",
      "2012-12-31  1.068385e+10  0.000000e+00  1.037424e+13  1.700777e+12   3452.0   \n",
      "2013-01-31  1.141827e+10  0.000000e+00  1.106573e+13  1.825353e+12   3700.0   \n",
      "2013-02-28  1.208211e+10  0.000000e+00  1.178456e+13  1.937550e+12   3924.0   \n",
      "2013-03-31  1.281668e+10  0.000000e+00  1.258544e+13  2.062721e+12   4172.0   \n",
      "2013-04-30  1.352294e+10  0.000000e+00  1.336161e+13  2.182923e+12   4409.0   \n",
      "2013-05-31  1.421526e+10  0.000000e+00  1.417811e+13  2.300425e+12   4641.0   \n",
      "2013-06-30  1.479357e+10  0.000000e+00  1.481486e+13  2.402622e+12   4835.0   \n",
      "2013-07-31  1.495910e+10  0.000000e+00  1.500222e+13  2.432076e+12   4891.0   \n",
      "2013-08-31           NaN           NaN           NaN           NaN      NaN   \n",
      "2013-09-30           NaN           NaN           NaN           NaN      NaN   \n",
      "2013-10-31           NaN           NaN           NaN           NaN      NaN   \n",
      "2013-11-30           NaN           NaN           NaN           NaN      NaN   \n",
      "2013-12-31           NaN           NaN           NaN           NaN      NaN   \n",
      "2014-01-31           NaN           NaN           NaN           NaN      NaN   \n",
      "2014-02-28  1.502008e+10  0.000000e+00  1.507324e+13  2.443138e+12   4912.0   \n",
      "2014-03-31  1.573670e+10  0.000000e+00  1.589874e+13  2.573395e+12   5160.0   \n",
      "2014-04-30  1.639676e+10  0.000000e+00  1.667223e+13  2.693626e+12   5388.0   \n",
      "2014-05-31  1.700342e+10  0.000000e+00  1.737778e+13  2.804074e+12   5598.0   \n",
      "2014-06-30  1.754740e+10  0.000000e+00  1.799780e+13  2.901837e+12   5785.0   \n",
      "2014-07-31  1.813241e+10  0.000000e+00  1.865884e+13  3.006766e+12   5985.0   \n",
      "2014-08-31  1.878475e+10  0.000000e+00  1.933918e+13  3.107661e+12   6212.0   \n",
      "2014-09-30  1.892400e+10  0.000000e+00  1.946047e+13  3.123537e+12   6263.0   \n",
      "2014-10-31  1.940349e+10  0.000000e+00  2.007648e+13  3.220237e+12   6445.0   \n",
      "2014-11-30  2.093923e+10  0.000000e+00  2.082492e+13  3.340629e+12   7032.0   \n",
      "2014-12-31  2.131698e+10  0.000000e+00  2.130516e+13  3.415166e+12   7177.0   \n",
      "2015-01-31  2.183382e+10  0.000000e+00  2.195427e+13  3.516188e+12   7393.0   \n",
      "2015-02-28  2.238712e+10  0.000000e+00  2.265231e+13  3.625382e+12   7607.0   \n",
      "2015-03-31  2.289512e+10  0.000000e+00  2.278117e+13  3.645856e+12   7807.0   \n",
      "2015-04-30  3.082220e+10  0.000000e+00  2.291003e+13  3.666330e+12  10986.0   \n",
      "2015-05-31  3.882995e+10  5.622481e+09  2.303889e+13  3.686804e+12  14381.0   \n",
      "2015-06-30  4.841682e+10  1.124496e+10  2.316775e+13  3.707279e+12  18637.0   \n",
      "2015-07-31  5.695765e+10  1.686744e+10  2.329661e+13  3.727753e+12  22519.0   \n",
      "2015-08-31  5.730192e+10  2.248992e+10  2.342547e+13  3.748227e+12  22727.0   \n",
      "\n",
      "                                               bytes    count  \n",
      "datatype   DIFFUSESLOW DOPPLER IMAGING         total    total  \n",
      "datetime                                                       \n",
      "2011-09-30         0.0    48.0    72.0  8.909017e+10    144.0  \n",
      "2011-10-31         0.0   389.0   522.0  9.801108e+11   1177.0  \n",
      "2011-11-30         0.0   486.0   647.0  1.360163e+12   1524.0  \n",
      "2011-12-31         0.0   588.0   891.0  1.816140e+12   2115.0  \n",
      "2012-01-31         0.0   809.0  1138.0  2.558087e+12   2830.0  \n",
      "2012-02-29         0.0  1023.0  1352.0  3.300772e+12   3472.0  \n",
      "2012-03-31         0.0  1269.0  1598.0  4.222437e+12   4210.0  \n",
      "2012-04-30         0.0  1509.0  1838.0  5.125371e+12   4930.0  \n",
      "2012-05-31         0.0  1719.0  2048.0  5.905840e+12   5560.0  \n",
      "2012-06-30         0.0  1955.0  2290.0  6.789280e+12   6274.0  \n",
      "2012-07-31         0.0  2203.0  2538.0  7.712154e+12   7018.0  \n",
      "2012-08-31         0.0  2451.0  2786.0  8.639913e+12   7762.0  \n",
      "2012-09-30         0.0  2691.0  3026.0  9.536934e+12   8482.0  \n",
      "2012-10-31         0.0  2927.0  3262.0  1.040411e+13   9190.0  \n",
      "2012-11-30         0.0  3130.0  3465.0  1.116169e+13   9799.0  \n",
      "2012-12-31         0.0  3378.0  3713.0  1.208570e+13  10543.0  \n",
      "2013-01-31         0.0  3612.0  3961.0  1.290250e+13  11273.0  \n",
      "2013-02-28         0.0  3836.0  4185.0  1.373419e+13  11945.0  \n",
      "2013-03-31         0.0  4084.0  4433.0  1.466098e+13  12689.0  \n",
      "2013-04-30         0.0  4324.0  4670.0  1.555806e+13  13403.0  \n",
      "2013-05-31         0.0  4577.0  4902.0  1.649275e+13  14120.0  \n",
      "2013-06-30         0.0  4772.0  5100.0  1.723228e+13  14707.0  \n",
      "2013-07-31         0.0  4828.0  5156.0  1.744925e+13  14875.0  \n",
      "2013-08-31         NaN     NaN     NaN           NaN      NaN  \n",
      "2013-09-30         NaN     NaN     NaN           NaN      NaN  \n",
      "2013-10-31         NaN     NaN     NaN           NaN      NaN  \n",
      "2013-11-30         NaN     NaN     NaN           NaN      NaN  \n",
      "2013-12-31         NaN     NaN     NaN           NaN      NaN  \n",
      "2014-01-31         NaN     NaN     NaN           NaN      NaN  \n",
      "2014-02-28         0.0  4849.0  5177.0  1.753140e+13  14938.0  \n",
      "2014-03-31         0.0  5096.0  5425.0  1.848787e+13  15681.0  \n",
      "2014-04-30         0.0  5325.0  5652.0  1.938225e+13  16365.0  \n",
      "2014-05-31         0.0  5535.0  5862.0  2.019886e+13  16995.0  \n",
      "2014-06-30         0.0  5721.0  6049.0  2.091719e+13  17555.0  \n",
      "2014-07-31         0.0  5921.0  6250.0  2.168374e+13  18156.0  \n",
      "2014-08-31         0.0  6148.0  6477.0  2.246562e+13  18837.0  \n",
      "2014-09-30         0.0  6198.0  6528.0  2.260293e+13  18989.0  \n",
      "2014-10-31         0.0  6380.0  6711.0  2.331612e+13  19536.0  \n",
      "2014-11-30         0.0  6607.0  6939.0  2.418648e+13  20578.0  \n",
      "2014-12-31         0.0  6751.0  7082.0  2.474165e+13  21010.0  \n",
      "2015-01-31         0.0  6966.0  7297.0  2.549229e+13  21656.0  \n",
      "2015-02-28         0.0  7180.0  7511.0  2.630008e+13  22298.0  \n",
      "2015-03-31         0.0  7220.0  7551.0  2.644992e+13  22578.0  \n",
      "2015-04-30         0.0  7260.0  7591.0  2.660718e+13  25837.0  \n",
      "2015-05-31        24.0  7300.0  7631.0  2.677015e+13  29336.0  \n",
      "2015-06-30        48.0  7340.0  7671.0  2.693469e+13  33696.0  \n",
      "2015-07-31        72.0  7380.0  7711.0  2.709819e+13  37682.0  \n",
      "2015-08-31        96.0  7420.0  7751.0  2.725349e+13  37994.0  \n"
     ]
    }
   ],
   "source": [
    "## Unstack and resample to bymonth\n",
    "\n",
    "bymonth = byday.unstack(level=0).resample('M').sum()\n",
    "\n",
    "#nn =  bymonth.notnull().any(axis=1,bool_only=True)\n",
    "\n",
    "## Any row which isn't all NA\n",
    "bymonth = bymonth.dropna(how='all')\n",
    "    \n",
    "# Manual\n",
    "bymonth['bytes','DIFFUSESLOW'][0] = 0\n",
    "bymonth['count','DIFFUSESLOW'][0] = 0\n",
    "\n",
    "bymonth.fillna(method='ffill',inplace=True)\n",
    "\n",
    "bymonth['bytes','total'] = bymonth['bytes'].sum(1)\n",
    "bymonth['count','total'] = bymonth['count'].sum(1)\n",
    "\n",
    "## Resample to bring back the NaN\n",
    "bymonth = bymonth.resample('M').sum()\n",
    "\n",
    "cumulative = bymonth.cumsum()\n",
    "\n",
    "print(cumulative)\n"
   ]
  },
  {
   "cell_type": "code",
   "execution_count": 8,
   "metadata": {
    "collapsed": false
   },
   "outputs": [
    {
     "data": {
      "text/plain": [
       "<matplotlib.figure.Figure at 0x11905fb38>"
      ]
     },
     "metadata": {},
     "output_type": "display_data"
    },
    {
     "data": {
      "image/png": "[encoded data removed]",
      "text/plain": [
       "<matplotlib.figure.Figure at 0x11905ff98>"
      ]
     },
     "metadata": {},
     "output_type": "display_data"
    }
   ],
   "source": [
    "## Plot cumulative values\n",
    "\n",
    "plt.figure()\n",
    "# Create a figure with a single subplot\n",
    "f, ax = plt.subplots(2, figsize=(10,10))\n",
    "\n",
    "## Make a copy in TiB\n",
    "cumu = cumulative.copy()\n",
    "cumu['bytes'] /= 2**40\n",
    "\n",
    "for i,key in enumerate(['bytes','count']):\n",
    "    \n",
    "    rowsum = cumu[key].drop('total',axis=1).cumsum(1) \n",
    "    \n",
    "    cols = rowsum.columns.values\n",
    "    \n",
    "    ax[i].fill_between(rowsum.index, 0, rowsum[ cols[0] ], label=cols[0])\n",
    "        \n",
    "    for j in range(1, len(cols)):\n",
    "        ax[i].fill_between(rowsum.index, rowsum[ cols[j-1] ], rowsum[ cols[j] ], label=cols[j])\n",
    "\n",
    "\n",
    "    ax[i].plot(cumu[key].index, cumu[key,'total'],color='k',label='Total')\n",
    "    ax[i].set_xlabel('Date')\n",
    "    if i == 0:\n",
    "        ax[i].set_ylabel('TiB')\n",
    "        ax[i].set_title('Accumulated raw COVIS data')\n",
    "    else:\n",
    "        ax[i].set_ylabel('count')\n",
    "        \n",
    "    ax[i].legend()\n",
    "\n",
    "plt.show()"
   ]
  },
  {
   "cell_type": "code",
   "execution_count": 9,
   "metadata": {
    "collapsed": false
   },
   "outputs": [
    {
     "name": "stdout",
     "output_type": "stream",
     "text": [
      "[  2.86295396e+10   2.50635427e+12]\n",
      "Growth rate 26.663336 GiB / day\n",
      "Growth rate 811.466846 GiB / month\n",
      "datetime\n",
      "2012-01-31    7.419474e+11\n",
      "2012-02-29    7.426845e+11\n",
      "2012-03-31    9.216650e+11\n",
      "2012-04-30    9.029339e+11\n",
      "2012-05-31    7.804694e+11\n",
      "2012-06-30    8.834399e+11\n",
      "2012-07-31    9.228739e+11\n",
      "2012-08-31    9.277591e+11\n",
      "2012-09-30    8.970215e+11\n",
      "2012-10-31    8.671786e+11\n",
      "2012-11-30    7.575790e+11\n",
      "2012-12-31    9.240041e+11\n",
      "2013-01-31    8.168024e+11\n",
      "2013-02-28    8.316900e+11\n",
      "2013-03-31    9.267874e+11\n",
      "2013-04-30    8.970837e+11\n",
      "2013-05-31    9.346911e+11\n",
      "Freq: M, Name: (bytes, total), dtype: float64\n",
      "Mean data per month 804.038762\n"
     ]
    }
   ],
   "source": [
    "from datetime import datetime\n",
    "\n",
    "## Pull out subset for linear regression\n",
    "subset = cumulative[ datetime(2012,1,1):datetime(2013,6,1) ].copy()\n",
    "subset['dt'] = (subset.index - subset.index[0]).days\n",
    "\n",
    "lm = np.polyfit( subset.dt, subset['bytes','total'], 1 )\n",
    "print(lm)\n",
    "bytes_per_day = np.asscalar(lm[0])\n",
    "\n",
    "print(\"Growth rate %f GiB / day\" % (bytes_per_day/2**30))\n",
    "\n",
    "lm = np.polyfit( range( len(subset) ), subset['bytes','total'], 1 )\n",
    "bytes_per_month = np.asscalar(lm[0])\n",
    "\n",
    "print(\"Growth rate %f GiB / month\" % (bytes_per_month/2**30))\n",
    "\n",
    "\n",
    "subset = bymonth[ datetime(2012,1,1):datetime(2013,6,1) ]['bytes','total']\n",
    "print(subset)\n",
    "mean_per_month = subset.mean()\n",
    "\n",
    "print(\"Mean data per month %f\" % (mean_per_month/2**30))\n"
   ]
  },
  {
   "cell_type": "code",
   "execution_count": 10,
   "metadata": {
    "collapsed": false
   },
   "outputs": [
    {
     "name": "stdout",
     "output_type": "stream",
     "text": [
      "datetime\n",
      "2011-09-30    8.909017e+10\n",
      "2011-10-31    8.910206e+11\n",
      "2011-11-30    3.800519e+11\n",
      "2011-12-31    4.559773e+11\n",
      "2012-01-31    7.419474e+11\n",
      "2012-02-29    7.426845e+11\n",
      "2012-03-31    9.216650e+11\n",
      "2012-04-30    9.029339e+11\n",
      "2012-05-31    7.804694e+11\n",
      "2012-06-30    8.834399e+11\n",
      "2012-07-31    9.228739e+11\n",
      "2012-08-31    9.277591e+11\n",
      "2012-09-30    8.970215e+11\n",
      "2012-10-31    8.671786e+11\n",
      "2012-11-30    7.575790e+11\n",
      "2012-12-31    9.240041e+11\n",
      "2013-01-31    8.168024e+11\n",
      "2013-02-28    8.316900e+11\n",
      "2013-03-31    9.267874e+11\n",
      "2013-04-30    8.970837e+11\n",
      "2013-05-31    9.346911e+11\n",
      "2013-06-30    7.395277e+11\n",
      "2013-07-31    2.169752e+11\n",
      "2013-08-31    8.633300e+11\n",
      "2013-09-30    8.633300e+11\n",
      "2013-10-31    8.633300e+11\n",
      "2013-11-30    8.633300e+11\n",
      "2013-12-31    8.633300e+11\n",
      "2014-01-31    8.633300e+11\n",
      "2014-02-28    8.214655e+10\n",
      "2014-03-31    9.564675e+11\n",
      "2014-04-30    8.943838e+11\n",
      "2014-05-31    8.166045e+11\n",
      "2014-06-30    7.183326e+11\n",
      "2014-07-31    7.665470e+11\n",
      "2014-08-31    7.818861e+11\n",
      "2014-09-30    1.373049e+11\n",
      "2014-10-31    7.131900e+11\n",
      "2014-11-30    8.703671e+11\n",
      "2014-12-31    5.551624e+11\n",
      "2015-01-31    7.506476e+11\n",
      "2015-02-28    8.077876e+11\n",
      "2015-03-31    1.498412e+11\n",
      "2015-04-30    1.572603e+11\n",
      "2015-05-31    1.629635e+11\n",
      "2015-06-30    1.645426e+11\n",
      "2015-07-31    1.634965e+11\n",
      "2015-08-31    1.553000e+11\n",
      "Freq: M, Name: (bytes, total), dtype: float64\n"
     ]
    },
    {
     "data": {
      "text/plain": [
       "<matplotlib.figure.Figure at 0x1198d8048>"
      ]
     },
     "metadata": {},
     "output_type": "display_data"
    },
    {
     "data": {
      "image/png": "[encoded data removed]",
      "text/plain": [
       "<matplotlib.figure.Figure at 0x11905f550>"
      ]
     },
     "metadata": {},
     "output_type": "display_data"
    },
    {
     "name": "stdout",
     "output_type": "stream",
     "text": [
      "Estimated total data 29.498065\n"
     ]
    }
   ],
   "source": [
    "\n",
    "\n",
    "## Try to till in missing data\n",
    "total = bymonth['bytes','total']\n",
    "total.fillna( mean_per_month, inplace=True)\n",
    "\n",
    "print(total)\n",
    "\n",
    "## Convert to TiB\n",
    "total /= 2**40\n",
    "\n",
    "cumu = total.cumsum()\n",
    "\n",
    "plt.figure()\n",
    "# Create a figure with a single subplot\n",
    "f, ax = plt.subplots(1, figsize=(10,5))\n",
    "\n",
    "## Make a copy in TiB\n",
    "cumu \n",
    "\n",
    "ax.plot(cumu,color='k',label='Total')\n",
    "\n",
    "\n",
    "plt.show()\n",
    "\n",
    "print(\"Estimated total data %f\" % cumu.max())\n"
   ]
  },
  {
   "cell_type": "code",
   "execution_count": 11,
   "metadata": {
    "collapsed": false
   },
   "outputs": [
    {
     "name": "stdout",
     "output_type": "stream",
     "text": [
      "                  dt       gibytes       tibytes\n",
      "2018-07-31    0 days  0.000000e+00  0.000000e+00\n",
      "2018-08-31   31 days  8.875157e+11  8.667146e+08\n",
      "2018-09-30   61 days  1.746402e+12  1.705471e+09\n",
      "2018-10-31   92 days  2.633918e+12  2.572185e+09\n",
      "2018-11-30  122 days  3.492804e+12  3.410941e+09\n",
      "2018-12-31  153 days  4.380320e+12  4.277656e+09\n",
      "2019-01-31  184 days  5.267835e+12  5.144370e+09\n",
      "2019-02-28  212 days  6.069462e+12  5.927209e+09\n",
      "2019-03-31  243 days  6.956978e+12  6.793924e+09\n",
      "2019-04-30  273 days  7.815864e+12  7.632680e+09\n",
      "2019-05-31  304 days  8.703380e+12  8.499395e+09\n",
      "2019-06-30  334 days  9.562266e+12  9.338151e+09\n",
      "2019-07-31  365 days  1.044978e+13  1.020487e+10\n",
      "2019-08-31  396 days  1.133730e+13  1.107158e+10\n",
      "2019-09-30  426 days  1.219618e+13  1.191034e+10\n",
      "2019-10-31  457 days  1.308370e+13  1.277705e+10\n",
      "2019-11-30  487 days  1.394259e+13  1.361581e+10\n",
      "2019-12-31  518 days  1.483010e+13  1.448252e+10\n",
      "2020-01-31  549 days  1.571762e+13  1.534924e+10\n",
      "2020-02-29  578 days  1.654787e+13  1.616003e+10\n",
      "2020-03-31  609 days  1.743539e+13  1.702675e+10\n",
      "2020-04-30  639 days  1.829428e+13  1.786550e+10\n",
      "2020-05-31  670 days  1.918179e+13  1.873222e+10\n",
      "2020-06-30  700 days  2.004068e+13  1.957097e+10\n",
      "2020-07-31  731 days  2.092819e+13  2.043769e+10\n",
      "2020-08-31  762 days  2.181571e+13  2.130440e+10\n",
      "2020-09-30  792 days  2.267460e+13  2.214316e+10\n",
      "2020-10-31  823 days  2.356211e+13  2.300987e+10\n",
      "2020-11-30  853 days  2.442100e+13  2.384863e+10\n",
      "2020-12-31  884 days  2.530851e+13  2.471534e+10\n",
      "2021-01-31  915 days  2.619603e+13  2.558206e+10\n",
      "2021-02-28  943 days  2.699766e+13  2.636490e+10\n",
      "2021-03-31  974 days  2.788517e+13  2.723161e+10\n",
      "2021-04-30 1004 days  2.874406e+13  2.807037e+10\n",
      "2021-05-31 1035 days  2.963157e+13  2.893708e+10\n",
      "2021-06-30 1065 days  3.049046e+13  2.977584e+10\n",
      "2021-07-31 1096 days  3.137798e+13  3.064255e+10\n",
      "2021-08-31 1127 days  3.226549e+13  3.150927e+10\n",
      "2021-09-30 1157 days  3.312438e+13  3.234802e+10\n",
      "2021-10-31 1188 days  3.401189e+13  3.321474e+10\n",
      "2021-11-30 1218 days  3.487078e+13  3.405350e+10\n",
      "2021-12-31 1249 days  3.575829e+13  3.492021e+10\n",
      "2022-01-31 1280 days  3.664581e+13  3.578692e+10\n",
      "2022-02-28 1308 days  3.744744e+13  3.656976e+10\n",
      "2022-03-31 1339 days  3.833495e+13  3.743648e+10\n",
      "2022-04-30 1369 days  3.919384e+13  3.827523e+10\n",
      "2022-05-31 1400 days  4.008136e+13  3.914195e+10\n",
      "2022-06-30 1430 days  4.094024e+13  3.998070e+10\n"
     ]
    }
   ],
   "source": [
    "mission_duration = pd.Timedelta(4 * 365)\n",
    "\n",
    "rng = pd.date_range('7/1/2018', '7/1/2022', freq='M')\n",
    "data_volume = pd.DataFrame(index=rng)\n",
    "data_volume['dt'] = data_volume.index - data_volume.index.min()\n",
    "data_volume['gibytes'] = data_volume['dt'].apply(lambda x: x.days) * bytes_per_day\n",
    "data_volume['tibytes'] = data_volume['gibytes'] / 2**10\n",
    "\n",
    "print(data_volume)"
   ]
  },
  {
   "cell_type": "code",
   "execution_count": null,
   "metadata": {
    "collapsed": true
   },
   "outputs": [],
   "source": []
  },
  {
   "cell_type": "code",
   "execution_count": null,
   "metadata": {
    "collapsed": true
   },
   "outputs": [],
   "source": []
  }
 ],
 "metadata": {
  "kernelspec": {
   "display_name": "Python 3",
   "language": "python",
   "name": "python3"
  },
  "language_info": {
   "codemirror_mode": {
    "name": "ipython",
    "version": 3
   },
   "file_extension": ".py",
   "mimetype": "text/x-python",
   "name": "python",
   "nbconvert_exporter": "python",
   "pygments_lexer": "ipython3",
   "version": "3.6.0"
  }
 },
 "nbformat": 4,
 "nbformat_minor": 2
}
