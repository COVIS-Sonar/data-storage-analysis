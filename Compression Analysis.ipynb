{
 "cells": [
  {
   "cell_type": "code",
   "execution_count": 3,
   "metadata": {
    "collapsed": false,
    "scrolled": true
   },
   "outputs": [],
   "source": [
    "import pandas as pd\n",
    "import numpy as np\n",
    "\n",
    "% matplotlib inline\n",
    "import matplotlib.pyplot as plt\n",
    "\n",
    "from datetime import datetime\n",
    "\n",
    "from pandas.tseries.offsets import *"
   ]
  },
  {
   "cell_type": "markdown",
   "metadata": {},
   "source": [
    "## Load files"
   ]
  },
  {
   "cell_type": "code",
   "execution_count": 89,
   "metadata": {
    "collapsed": false,
    "scrolled": true
   },
   "outputs": [
    {
     "name": "stdout",
     "output_type": "stream",
     "text": [
      "       algo level                                           filename  \\\n",
      "0       raw     x  APLUWCOVISMBSONAR001_20120401T063122.045Z-DIFF...   \n",
      "1       raw     x  APLUWCOVISMBSONAR001_20120401T121001.449Z-DOPP...   \n",
      "2       raw     x  APLUWCOVISMBSONAR001_20120401T210919.187Z-DOPP...   \n",
      "3       raw     x  APLUWCOVISMBSONAR001_20120401T180042.337Z-IMAG...   \n",
      "4       raw     x  APLUWCOVISMBSONAR001_20120401T124747.207Z-DIFF...   \n",
      "5       raw     x  APLUWCOVISMBSONAR001_20120401T150042.980Z-IMAG...   \n",
      "6       raw     x  APLUWCOVISMBSONAR001_20120401T030958.766Z-DOPP...   \n",
      "7       raw     x  APLUWCOVISMBSONAR001_20120401T034727.647Z-DIFF...   \n",
      "8       raw     x  APLUWCOVISMBSONAR001_20120401T000042.191Z-IMAG...   \n",
      "9       raw     x  APLUWCOVISMBSONAR001_20120401T094646.018Z-DIFF...   \n",
      "10      raw     x  APLUWCOVISMBSONAR001_20120401T000952.221Z-DOPP...   \n",
      "11      raw     x  APLUWCOVISMBSONAR001_20120401T155139.127Z-DIFF...   \n",
      "12      raw     x  APLUWCOVISMBSONAR001_20120401T184830.333Z-DIFF...   \n",
      "13      raw     x  APLUWCOVISMBSONAR001_20120401T151007.300Z-DOPP...   \n",
      "14      raw     x  APLUWCOVISMBSONAR001_20120401T090040.249Z-IMAG...   \n",
      "15      raw     x  APLUWCOVISMBSONAR001_20120401T120039.062Z-IMAG...   \n",
      "16      raw     x  APLUWCOVISMBSONAR001_20120401T030041.027Z-IMAG...   \n",
      "17      raw     x  APLUWCOVISMBSONAR001_20120401T090914.466Z-DOPP...   \n",
      "18      raw     x  APLUWCOVISMBSONAR001_20120401T060039.224Z-IMAG...   \n",
      "19      raw     x  APLUWCOVISMBSONAR001_20120401T210042.893Z-IMAG...   \n",
      "20      raw     x  APLUWCOVISMBSONAR001_20120401T061005.867Z-DOPP...   \n",
      "21      raw     x  APLUWCOVISMBSONAR001_20120401T214655.609Z-DIFF...   \n",
      "22      raw     x  APLUWCOVISMBSONAR001_20120401T181012.039Z-DOPP...   \n",
      "23      raw     x  APLUWCOVISMBSONAR001_20120401T004720.076Z-DIFF...   \n",
      "24     gzip     1  APLUWCOVISMBSONAR001_20120401T063122.045Z-DIFF...   \n",
      "25     gzip     1  APLUWCOVISMBSONAR001_20120401T121001.449Z-DOPP...   \n",
      "26     gzip     1  APLUWCOVISMBSONAR001_20120401T210919.187Z-DOPP...   \n",
      "27     gzip     1  APLUWCOVISMBSONAR001_20120401T180042.337Z-IMAG...   \n",
      "28     gzip     1  APLUWCOVISMBSONAR001_20120401T124747.207Z-DIFF...   \n",
      "29     gzip     1  APLUWCOVISMBSONAR001_20120401T150042.980Z-IMAG...   \n",
      "...     ...   ...                                                ...   \n",
      "1170  lrzip  zpaq  APLUWCOVISMBSONAR001_20120401T060039.224Z-IMAG...   \n",
      "1171  lrzip  zpaq  APLUWCOVISMBSONAR001_20120401T210042.893Z-IMAG...   \n",
      "1172  lrzip  zpaq  APLUWCOVISMBSONAR001_20120401T061005.867Z-DOPP...   \n",
      "1173  lrzip  zpaq  APLUWCOVISMBSONAR001_20120401T214655.609Z-DIFF...   \n",
      "1174  lrzip  zpaq  APLUWCOVISMBSONAR001_20120401T181012.039Z-DOPP...   \n",
      "1175  lrzip  zpaq  APLUWCOVISMBSONAR001_20120401T004720.076Z-DIFF...   \n",
      "1176     7z     x  APLUWCOVISMBSONAR001_20120401T063122.045Z-DIFF...   \n",
      "1177     7z     x  APLUWCOVISMBSONAR001_20120401T121001.449Z-DOPP...   \n",
      "1178     7z     x  APLUWCOVISMBSONAR001_20120401T210919.187Z-DOPP...   \n",
      "1179     7z     x  APLUWCOVISMBSONAR001_20120401T180042.337Z-IMAG...   \n",
      "1180     7z     x  APLUWCOVISMBSONAR001_20120401T124747.207Z-DIFF...   \n",
      "1181     7z     x  APLUWCOVISMBSONAR001_20120401T150042.980Z-IMAG...   \n",
      "1182     7z     x  APLUWCOVISMBSONAR001_20120401T030958.766Z-DOPP...   \n",
      "1183     7z     x  APLUWCOVISMBSONAR001_20120401T034727.647Z-DIFF...   \n",
      "1184     7z     x  APLUWCOVISMBSONAR001_20120401T000042.191Z-IMAG...   \n",
      "1185     7z     x  APLUWCOVISMBSONAR001_20120401T094646.018Z-DIFF...   \n",
      "1186     7z     x  APLUWCOVISMBSONAR001_20120401T000952.221Z-DOPP...   \n",
      "1187     7z     x  APLUWCOVISMBSONAR001_20120401T155139.127Z-DIFF...   \n",
      "1188     7z     x  APLUWCOVISMBSONAR001_20120401T184830.333Z-DIFF...   \n",
      "1189     7z     x  APLUWCOVISMBSONAR001_20120401T151007.300Z-DOPP...   \n",
      "1190     7z     x  APLUWCOVISMBSONAR001_20120401T090040.249Z-IMAG...   \n",
      "1191     7z     x  APLUWCOVISMBSONAR001_20120401T120039.062Z-IMAG...   \n",
      "1192     7z     x  APLUWCOVISMBSONAR001_20120401T030041.027Z-IMAG...   \n",
      "1193     7z     x  APLUWCOVISMBSONAR001_20120401T090914.466Z-DOPP...   \n",
      "1194     7z     x  APLUWCOVISMBSONAR001_20120401T060039.224Z-IMAG...   \n",
      "1195     7z     x  APLUWCOVISMBSONAR001_20120401T210042.893Z-IMAG...   \n",
      "1196     7z     x  APLUWCOVISMBSONAR001_20120401T061005.867Z-DOPP...   \n",
      "1197     7z     x  APLUWCOVISMBSONAR001_20120401T214655.609Z-DIFF...   \n",
      "1198     7z     x  APLUWCOVISMBSONAR001_20120401T181012.039Z-DOPP...   \n",
      "1199     7z     x  APLUWCOVISMBSONAR001_20120401T004720.076Z-DIFF...   \n",
      "\n",
      "      compress_sec         size  uncompress_sec  \n",
      "0         0.000000     11857920        0.000000  \n",
      "1         0.000000  11209154560        0.000000  \n",
      "2         0.000000  11209154560        0.000000  \n",
      "3         0.000000   1809090560        0.000000  \n",
      "4         0.000000     11857920        0.000000  \n",
      "5         0.000000   1809090560        0.000000  \n",
      "6         0.000000  11209154560        0.000000  \n",
      "7         0.000000     11857920        0.000000  \n",
      "8         0.000000   1809090560        0.000000  \n",
      "9         0.000000     11857920        0.000000  \n",
      "10        0.000000  11209154560        0.000000  \n",
      "11        0.000000     11857920        0.000000  \n",
      "12        0.000000     11857920        0.000000  \n",
      "13        0.000000  11209154560        0.000000  \n",
      "14        0.000000   1809090560        0.000000  \n",
      "15        0.000000   1809090560        0.000000  \n",
      "16        0.000000   1809090560        0.000000  \n",
      "17        0.000000  11209154560        0.000000  \n",
      "18        0.000000   1809090560        0.000000  \n",
      "19        0.000000   1809090560        0.000000  \n",
      "20        0.000000   5462691840        0.000000  \n",
      "21        0.000000     11857920        0.000000  \n",
      "22        0.000000  11209154560        0.000000  \n",
      "23        0.000000     11857920        0.000000  \n",
      "24        0.126048      3564594        0.064388  \n",
      "25      132.943313   3816301246       67.543408  \n",
      "26      129.865736   3770494682       67.520319  \n",
      "27       20.211102    580085183        9.990350  \n",
      "28        0.126771      3618238        0.065310  \n",
      "29       20.633971    583704382       10.007443  \n",
      "...            ...          ...             ...  \n",
      "1170    342.411842    383299767      250.101151  \n",
      "1171    345.178911    389068782      252.035994  \n",
      "1172    952.396998   1240211497      940.325626  \n",
      "1173      6.709330      2267035        6.338114  \n",
      "1174   1711.616634   2513948675     1784.303316  \n",
      "1175      6.816062      2310670        6.287811  \n",
      "1176      2.684983      2105258        0.142338  \n",
      "1177   3250.132168   1923479708      143.127758  \n",
      "1178   3233.794974   1882181707      140.166495  \n",
      "1179    570.766478    328613501       22.080009  \n",
      "1180      2.743053      2137544        0.143891  \n",
      "1181    576.748095    329902547       22.154873  \n",
      "1182   3554.028344   1909704735      142.429805  \n",
      "1183      2.768843      2144872        0.144417  \n",
      "1184    562.438956    336629637       22.460190  \n",
      "1185      2.726587      2119010        0.143033  \n",
      "1186   3239.370664   1912729389      145.556261  \n",
      "1187      2.688811      2140260        0.142763  \n",
      "1188      2.642923      2114970        0.142196  \n",
      "1189   3249.689100   1887787836      143.031212  \n",
      "1190    579.298879    332913329       22.367907  \n",
      "1191    575.237254    343851011       23.265975  \n",
      "1192    567.751487    345420400       22.986653  \n",
      "1193   3253.829600   1919978066      143.902827  \n",
      "1194    568.754341    330620494       22.222147  \n",
      "1195    581.379260    337426708       22.538529  \n",
      "1196   1559.683604    919763216       68.617557  \n",
      "1197      2.670660      2090435        0.142086  \n",
      "1198   3598.904131   1862257749      140.829904  \n",
      "1199      2.834065      2150977        0.143690  \n",
      "\n",
      "[1200 rows x 6 columns]\n"
     ]
    }
   ],
   "source": [
    "\n",
    "raw_data = pd.read_csv('raw-data/results.txt', sep='\\t', header=None, \n",
    "                       names=['algo','level','filename', 'compress_sec','size','uncompress_sec'])\n",
    "\n",
    "\n",
    "# Convert nan levels to zeros\n",
    "raw_data['level'].fillna('x', inplace=True)\n",
    "\n",
    "print(raw_data)"
   ]
  },
  {
   "cell_type": "markdown",
   "metadata": {},
   "source": [
    "## Reprocess data files to get out compression percentages"
   ]
  },
  {
   "cell_type": "code",
   "execution_count": 130,
   "metadata": {
    "collapsed": false,
    "scrolled": false
   },
   "outputs": [
    {
     "name": "stdout",
     "output_type": "stream",
     "text": [
      "                algo    level\n",
      "compress_sec    raw     x            0.000000\n",
      "                gzip    1         1134.149519\n",
      "                pigz    1          229.572421\n",
      "                bzip2   1         5464.771769\n",
      "                lbzip2  1          856.941164\n",
      "                pbzip2  1         1010.160233\n",
      "                gzip    2         1247.660576\n",
      "                pigz    2          249.194615\n",
      "                bzip2   2         5405.056280\n",
      "                lbzip2  2          841.106214\n",
      "                pbzip2  2         1007.037122\n",
      "                gzip    3         1775.783068\n",
      "                pigz    3          343.999511\n",
      "                bzip2   3         5442.155884\n",
      "                lbzip2  3          845.749927\n",
      "                pbzip2  3         1024.434403\n",
      "                gzip    4         1626.709995\n",
      "                pigz    4          329.375821\n",
      "                bzip2   4         5467.885546\n",
      "                lbzip2  4          854.386123\n",
      "                pbzip2  4         1039.557113\n",
      "                gzip    5         2495.876166\n",
      "                pigz    5          491.731892\n",
      "                bzip2   5         5543.082461\n",
      "                lbzip2  5          859.681493\n",
      "                pbzip2  5         1051.849320\n",
      "                gzip    6         4691.977458\n",
      "                pigz    6          855.655298\n",
      "                bzip2   6         5581.821076\n",
      "                lbzip2  6          867.155565\n",
      "                                     ...     \n",
      "uncompress_sec  pbzip2  4          394.431309\n",
      "                gzip    5          509.089832\n",
      "                pigz    5          271.546895\n",
      "                bzip2   5         2295.984918\n",
      "                lbzip2  5          349.543928\n",
      "                pbzip2  5          401.437252\n",
      "                gzip    6          486.573842\n",
      "                pigz    6          261.455324\n",
      "                bzip2   6         2296.429657\n",
      "                lbzip2  6          363.458005\n",
      "                pbzip2  6          408.820406\n",
      "                gzip    7          483.198225\n",
      "                pigz    7          272.900131\n",
      "                bzip2   7         2285.275757\n",
      "                lbzip2  7          385.422919\n",
      "                pbzip2  7          423.930979\n",
      "                gzip    8          477.649099\n",
      "                pigz    8          281.388350\n",
      "                bzip2   8         2361.825797\n",
      "                lbzip2  8          417.320632\n",
      "                pbzip2  8          441.013502\n",
      "                gzip    9          477.519866\n",
      "                pigz    9          250.437731\n",
      "                bzip2   9         2266.476293\n",
      "                lbzip2  9          428.301816\n",
      "                pbzip2  9          429.555392\n",
      "                lrzip   bzip2      705.186175\n",
      "                        gzip       304.730932\n",
      "                        zpaq     15593.072533\n",
      "                7z      x         1248.882515\n",
      "Length: 150, dtype: float64\n"
     ]
    }
   ],
   "source": [
    "\n",
    "data = raw_data.set_index(['filename','algo','level'])\n",
    "\n",
    "## Pull out just the size data\n",
    "size = data['size'].copy()\n",
    "size = size.unstack(level=[1,2])\n",
    "\n",
    "## Add a total size line\n",
    "total_size = size.sum( axis='index')\n",
    "#print(total_size)\n",
    "\n",
    "##\n",
    "times = data.copy()\n",
    "times = times.unstack(level=[1,2])\n",
    "# print(times)\n",
    "\n",
    "total_times = times.sum( axis='index' )\n",
    "print(total_times)"
   ]
  },
  {
   "cell_type": "code",
   "execution_count": null,
   "metadata": {
    "collapsed": true
   },
   "outputs": [],
   "source": [
    "## Compute compresion ratios\n",
    "\n",
    "raw_size = size['raw','x']\n",
    "pct_compression = size.divide(raw_size, axis='index')\n",
    "total_compression = total_size / total_size['raw','x']\n",
    "\n",
    "\n",
    "print(pct_compression)\n",
    "print(total_compression)"
   ]
  },
  {
   "cell_type": "code",
   "execution_count": 131,
   "metadata": {
    "collapsed": true
   },
   "outputs": [],
   "source": [
    "## Create compression ratio plot"
   ]
  },
  {
   "cell_type": "code",
   "execution_count": 141,
   "metadata": {
    "collapsed": false
   },
   "outputs": [
    {
     "data": {
      "text/plain": [
       "<matplotlib.figure.Figure at 0x1181efb38>"
      ]
     },
     "metadata": {},
     "output_type": "display_data"
    },
    {
     "data": {
      "image/png": "[encoded data removed]",
      "text/plain": [
       "<matplotlib.figure.Figure at 0x1170ee6d8>"
      ]
     },
     "metadata": {},
     "output_type": "display_data"
    }
   ],
   "source": [
    "plt.figure()\n",
    "# Create a figure with a single subplot\n",
    "f, ax = plt.subplots(3, figsize=(10,15))\n",
    "\n",
    "\n",
    "for idx,data in enumerate( [total_compression, total_times['compress_sec'], total_times['uncompress_sec']  ]):\n",
    "\n",
    "    for algo in ['bzip2', 'gzip', 'lbzip2', 'pbzip2']:\n",
    "        ax[idx].plot( data[algo], label=algo)\n",
    "\n",
    "    ax[idx].axhline(data['gzip','6'], label='Current compression')\n",
    "    #ax.plot(6, total_compression['gzip','6'], 'o', label='Current compression')\n",
    "\n",
    "    ax[idx].plot(6, data['lrzip','bzip2'], 'o', label='lrzip + bzip2')\n",
    "    ax[idx].plot(6, data['lrzip','gzip'], 'o', label='lrzip + gzip')\n",
    "    ax[idx].plot(6, data['lrzip','zpaq'], 'o', label='lrzip + zpaq')\n",
    "\n",
    "    ax[idx].plot(9, data['7z','x'], 'ro', label='7-Zip')\n",
    "\n",
    "ax[0].legend()\n",
    "ax[0].set_ylabel(\"Frac. compression\")\n",
    "ax[0].set_xlabel(\"Level\")\n",
    "\n",
    "ax[1].set_yscale('log')\n",
    "ax[1].set_ylabel(\"Time to compress 1 day (seconds)\")\n",
    "\n",
    "ax[2].set_yscale('log')\n",
    "ax[2].set_ylabel(\"Time to uncompress 1 day (seconds)\")\n",
    "\n",
    "\n",
    "plt.show()\n",
    "\n"
   ]
  },
  {
   "cell_type": "code",
   "execution_count": null,
   "metadata": {
    "collapsed": true
   },
   "outputs": [],
   "source": []
  }
 ],
 "metadata": {
  "kernelspec": {
   "display_name": "Python 3",
   "language": "python",
   "name": "python3"
  },
  "language_info": {
   "codemirror_mode": {
    "name": "ipython",
    "version": 3
   },
   "file_extension": ".py",
   "mimetype": "text/x-python",
   "name": "python",
   "nbconvert_exporter": "python",
   "pygments_lexer": "ipython3",
   "version": "3.6.0"
  }
 },
 "nbformat": 4,
 "nbformat_minor": 2
}
