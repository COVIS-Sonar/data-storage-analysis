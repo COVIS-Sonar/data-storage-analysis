{
 "cells": [
  {
   "cell_type": "code",
   "execution_count": 55,
   "metadata": {
    "collapsed": false,
    "scrolled": true
   },
   "outputs": [],
   "source": [
    "import pandas as pd\n",
    "import numpy as np\n",
    "\n",
    "% matplotlib inline\n",
    "import matplotlib.pyplot as plt\n",
    "\n",
    "from datetime import datetime\n",
    "\n",
    "from pandas.tseries.offsets import *"
   ]
  },
  {
   "cell_type": "markdown",
   "metadata": {},
   "source": [
    "## Load files"
   ]
  },
  {
   "cell_type": "code",
   "execution_count": 365,
   "metadata": {
    "collapsed": false,
    "scrolled": true
   },
   "outputs": [
    {
     "name": "stdout",
     "output_type": "stream",
     "text": [
      "Total of 0.333096 TiB\n"
     ]
    }
   ],
   "source": [
    "\n",
    "raw_data = pd.read_csv('raw-data/compression_results.txt', delim_whitespace=True, header=None, names=['bytes','filename'])\n",
    "\n",
    "print(\"Total of %f TiB\" % (raw_data['bytes'].sum() / 2**40))"
   ]
  },
  {
   "cell_type": "markdown",
   "metadata": {},
   "source": [
    "## Digest filenames into tarfile, directory"
   ]
  },
  {
   "cell_type": "code",
   "execution_count": 370,
   "metadata": {
    "collapsed": false,
    "scrolled": false
   },
   "outputs": [
    {
     "name": "stdout",
     "output_type": "stream",
     "text": [
      "                                           bytes                          \\\n",
      "compression                                gzip1       gzip2       gzip3   \n",
      "basename                                                                   \n",
      "APLUWCOVISMBSONAR001_20120401T000042   586198705   569457237   538454850   \n",
      "APLUWCOVISMBSONAR001_20120401T000952  3796283869  3686824134  3508906457   \n",
      "APLUWCOVISMBSONAR001_20120401T004720     3637404     3528974     3385781   \n",
      "APLUWCOVISMBSONAR001_20120401T030041   595602120   578781605   548365614   \n",
      "APLUWCOVISMBSONAR001_20120401T030958  3779039054  3675701021  3496916380   \n",
      "APLUWCOVISMBSONAR001_20120401T034727     3645518     3535741     3396162   \n",
      "APLUWCOVISMBSONAR001_20120401T060039   583970991   566001892   535605006   \n",
      "APLUWCOVISMBSONAR001_20120401T061005  1839805323  1785151538  1698879817   \n",
      "APLUWCOVISMBSONAR001_20120401T063122     3564594     3449250     3325228   \n",
      "APLUWCOVISMBSONAR001_20120401T090040   587927560   570285301   539688938   \n",
      "APLUWCOVISMBSONAR001_20120401T090914  3823085827  3710013060  3532179174   \n",
      "APLUWCOVISMBSONAR001_20120401T094646     3585199     3471151     3347320   \n",
      "APLUWCOVISMBSONAR001_20120401T120039   596184572   579269385   548686077   \n",
      "APLUWCOVISMBSONAR001_20120401T121001  3816301246  3708210290  3532437311   \n",
      "APLUWCOVISMBSONAR001_20120401T124747     3618238     3515034     3365233   \n",
      "APLUWCOVISMBSONAR001_20120401T150042   583704382   565316335   534654269   \n",
      "APLUWCOVISMBSONAR001_20120401T151007  3777878705  3665213533  3486671123   \n",
      "APLUWCOVISMBSONAR001_20120401T155139     3601709     3490176     3356837   \n",
      "APLUWCOVISMBSONAR001_20120401T180042   580085183   562421749   531751245   \n",
      "APLUWCOVISMBSONAR001_20120401T181012  3735006557  3623636183  3445320468   \n",
      "APLUWCOVISMBSONAR001_20120401T184830     3569723     3459923     3335555   \n",
      "APLUWCOVISMBSONAR001_20120401T210042   592527995   574938644   544524304   \n",
      "APLUWCOVISMBSONAR001_20120401T210919  3770494682  3659202846  3480828123   \n",
      "APLUWCOVISMBSONAR001_20120401T214655     3550588     3438056     3318444   \n",
      "\n",
      "                                                                          \\\n",
      "compression                                gzip4       gzip5       gzip6   \n",
      "basename                                                                   \n",
      "APLUWCOVISMBSONAR001_20120401T000042   530600466   526562032   509166221   \n",
      "APLUWCOVISMBSONAR001_20120401T000952  3431768454  3370997653  3270701786   \n",
      "APLUWCOVISMBSONAR001_20120401T004720     3290132     3241947     3195182   \n",
      "APLUWCOVISMBSONAR001_20120401T030041   541078489   537515312   520152100   \n",
      "APLUWCOVISMBSONAR001_20120401T030958  3422837944  3359615739  3266171973   \n",
      "APLUWCOVISMBSONAR001_20120401T034727     3296838     3258195     3206216   \n",
      "APLUWCOVISMBSONAR001_20120401T060039   525869961   521083929   502810688   \n",
      "APLUWCOVISMBSONAR001_20120401T061005  1655368896  1624940144  1576568788   \n",
      "APLUWCOVISMBSONAR001_20120401T063122     3231607     3196069     3146811   \n",
      "APLUWCOVISMBSONAR001_20120401T090040   529264487   525358337   507079795   \n",
      "APLUWCOVISMBSONAR001_20120401T090914  3443579148  3384249220  3280741796   \n",
      "APLUWCOVISMBSONAR001_20120401T094646     3251255     3212554     3163343   \n",
      "APLUWCOVISMBSONAR001_20120401T120039   540652594   537483432   519626137   \n",
      "APLUWCOVISMBSONAR001_20120401T121001  3452479243  3392519527  3295282949   \n",
      "APLUWCOVISMBSONAR001_20120401T124747     3272059     3222563     3175856   \n",
      "APLUWCOVISMBSONAR001_20120401T150042   524649481   520694133   501458478   \n",
      "APLUWCOVISMBSONAR001_20120401T151007  3401593342  3339224517  3236600886   \n",
      "APLUWCOVISMBSONAR001_20120401T155139     3259788     3220610     3165862   \n",
      "APLUWCOVISMBSONAR001_20120401T180042   522720764   517928113   499873052   \n",
      "APLUWCOVISMBSONAR001_20120401T181012  3360028456  3294268359  3195825106   \n",
      "APLUWCOVISMBSONAR001_20120401T184830     3241651     3207705     3163463   \n",
      "APLUWCOVISMBSONAR001_20120401T210042   534623239   530846682   512484945   \n",
      "APLUWCOVISMBSONAR001_20120401T210919  3393840876  3331512159  3230672624   \n",
      "APLUWCOVISMBSONAR001_20120401T214655     3216622     3182407     3130431   \n",
      "\n",
      "                                                                          \\\n",
      "compression                                gzip7       gzip8       gzip9   \n",
      "basename                                                                   \n",
      "APLUWCOVISMBSONAR001_20120401T000042   506819166   501720835   500873027   \n",
      "APLUWCOVISMBSONAR001_20120401T000952  3257710888  3226054646  3221992447   \n",
      "APLUWCOVISMBSONAR001_20120401T004720     3177757     3163390     3160459   \n",
      "APLUWCOVISMBSONAR001_20120401T030041   517692256   512381837   511487835   \n",
      "APLUWCOVISMBSONAR001_20120401T030958  3253797153  3223675088  3219105530   \n",
      "APLUWCOVISMBSONAR001_20120401T034727     3188290     3172941     3170218   \n",
      "APLUWCOVISMBSONAR001_20120401T060039   500332379   495082655   494367936   \n",
      "APLUWCOVISMBSONAR001_20120401T061005  1569773549  1554581590  1552862412   \n",
      "APLUWCOVISMBSONAR001_20120401T063122     3129394     3113898     3107965   \n",
      "APLUWCOVISMBSONAR001_20120401T090040   504691459   499565824   498826737   \n",
      "APLUWCOVISMBSONAR001_20120401T090914  3267114816  3235790715  3232466931   \n",
      "APLUWCOVISMBSONAR001_20120401T094646     3141332     3131512     3126141   \n",
      "APLUWCOVISMBSONAR001_20120401T120039   517371687   512140217   511394087   \n",
      "APLUWCOVISMBSONAR001_20120401T121001  3282753015  3251671707  3247839488   \n",
      "APLUWCOVISMBSONAR001_20120401T124747     3157869     3142082     3138731   \n",
      "APLUWCOVISMBSONAR001_20120401T150042   499019605   493618850   492895479   \n",
      "APLUWCOVISMBSONAR001_20120401T151007  3223028776  3191158087  3187389358   \n",
      "APLUWCOVISMBSONAR001_20120401T155139     3146649     3132803     3129579   \n",
      "APLUWCOVISMBSONAR001_20120401T180042   497529503   492372388   491593372   \n",
      "APLUWCOVISMBSONAR001_20120401T181012  3182405349  3150802874  3146942272   \n",
      "APLUWCOVISMBSONAR001_20120401T184830     3145253     3130213     3127576   \n",
      "APLUWCOVISMBSONAR001_20120401T210042   510028941   504859948   504105437   \n",
      "APLUWCOVISMBSONAR001_20120401T210919  3216711253  3185248158  3181584185   \n",
      "APLUWCOVISMBSONAR001_20120401T214655     3113929     3099929     3097297   \n",
      "\n",
      "                                                   \n",
      "compression                                   raw  \n",
      "basename                                           \n",
      "APLUWCOVISMBSONAR001_20120401T000042   1809090560  \n",
      "APLUWCOVISMBSONAR001_20120401T000952  11209154560  \n",
      "APLUWCOVISMBSONAR001_20120401T004720     11857920  \n",
      "APLUWCOVISMBSONAR001_20120401T030041   1809090560  \n",
      "APLUWCOVISMBSONAR001_20120401T030958  11209154560  \n",
      "APLUWCOVISMBSONAR001_20120401T034727     11857920  \n",
      "APLUWCOVISMBSONAR001_20120401T060039   1809090560  \n",
      "APLUWCOVISMBSONAR001_20120401T061005   5462691840  \n",
      "APLUWCOVISMBSONAR001_20120401T063122     11857920  \n",
      "APLUWCOVISMBSONAR001_20120401T090040   1809090560  \n",
      "APLUWCOVISMBSONAR001_20120401T090914  11209154560  \n",
      "APLUWCOVISMBSONAR001_20120401T094646     11857920  \n",
      "APLUWCOVISMBSONAR001_20120401T120039   1809090560  \n",
      "APLUWCOVISMBSONAR001_20120401T121001  11209154560  \n",
      "APLUWCOVISMBSONAR001_20120401T124747     11857920  \n",
      "APLUWCOVISMBSONAR001_20120401T150042   1809090560  \n",
      "APLUWCOVISMBSONAR001_20120401T151007  11209154560  \n",
      "APLUWCOVISMBSONAR001_20120401T155139     11857920  \n",
      "APLUWCOVISMBSONAR001_20120401T180042   1809090560  \n",
      "APLUWCOVISMBSONAR001_20120401T181012  11209154560  \n",
      "APLUWCOVISMBSONAR001_20120401T184830     11857920  \n",
      "APLUWCOVISMBSONAR001_20120401T210042   1809090560  \n",
      "APLUWCOVISMBSONAR001_20120401T210919  11209154560  \n",
      "APLUWCOVISMBSONAR001_20120401T214655     11857920  \n"
     ]
    },
    {
     "ename": "KeyError",
     "evalue": "'the label [raw] is not in the [index]'",
     "output_type": "error",
     "traceback": [
      "\u001b[0;31m---------------------------------------------------------------------------\u001b[0m",
      "\u001b[0;31mKeyError\u001b[0m                                  Traceback (most recent call last)",
      "\u001b[0;32m/Users/aaron/workspace/miniconda3/lib/python3.6/site-packages/pandas/core/indexing.py\u001b[0m in \u001b[0;36m_has_valid_type\u001b[0;34m(self, key, axis)\u001b[0m\n\u001b[1;32m   1410\u001b[0m                 \u001b[0;32mif\u001b[0m \u001b[0mkey\u001b[0m \u001b[0;32mnot\u001b[0m \u001b[0;32min\u001b[0m \u001b[0max\u001b[0m\u001b[0;34m:\u001b[0m\u001b[0;34m\u001b[0m\u001b[0m\n\u001b[0;32m-> 1411\u001b[0;31m                     \u001b[0merror\u001b[0m\u001b[0;34m(\u001b[0m\u001b[0;34m)\u001b[0m\u001b[0;34m\u001b[0m\u001b[0m\n\u001b[0m\u001b[1;32m   1412\u001b[0m             \u001b[0;32mexcept\u001b[0m \u001b[0mTypeError\u001b[0m \u001b[0;32mas\u001b[0m \u001b[0me\u001b[0m\u001b[0;34m:\u001b[0m\u001b[0;34m\u001b[0m\u001b[0m\n",
      "\u001b[0;32m/Users/aaron/workspace/miniconda3/lib/python3.6/site-packages/pandas/core/indexing.py\u001b[0m in \u001b[0;36merror\u001b[0;34m()\u001b[0m\n\u001b[1;32m   1405\u001b[0m                 raise KeyError(\"the label [%s] is not in the [%s]\" %\n\u001b[0;32m-> 1406\u001b[0;31m                                (key, self.obj._get_axis_name(axis)))\n\u001b[0m\u001b[1;32m   1407\u001b[0m \u001b[0;34m\u001b[0m\u001b[0m\n",
      "\u001b[0;31mKeyError\u001b[0m: 'the label [raw] is not in the [index]'",
      "\nDuring handling of the above exception, another exception occurred:\n",
      "\u001b[0;31mKeyError\u001b[0m                                  Traceback (most recent call last)",
      "\u001b[0;32m<ipython-input-370-0ee13ebd4259>\u001b[0m in \u001b[0;36m<module>\u001b[0;34m()\u001b[0m\n\u001b[1;32m     11\u001b[0m \u001b[0mprint\u001b[0m\u001b[0;34m(\u001b[0m\u001b[0mdata\u001b[0m\u001b[0;34m)\u001b[0m\u001b[0;34m\u001b[0m\u001b[0m\n\u001b[1;32m     12\u001b[0m \u001b[0;34m\u001b[0m\u001b[0m\n\u001b[0;32m---> 13\u001b[0;31m \u001b[0mcompression\u001b[0m \u001b[0;34m=\u001b[0m \u001b[0mdata\u001b[0m \u001b[0;34m/\u001b[0m \u001b[0mdata\u001b[0m\u001b[0;34m.\u001b[0m\u001b[0mloc\u001b[0m\u001b[0;34m[\u001b[0m\u001b[0;34m'raw'\u001b[0m\u001b[0;34m]\u001b[0m\u001b[0;34m\u001b[0m\u001b[0m\n\u001b[0m\u001b[1;32m     14\u001b[0m \u001b[0mprint\u001b[0m\u001b[0;34m(\u001b[0m\u001b[0mcompression\u001b[0m\u001b[0;34m)\u001b[0m\u001b[0;34m\u001b[0m\u001b[0m\n\u001b[1;32m     15\u001b[0m \u001b[0;34m\u001b[0m\u001b[0m\n",
      "\u001b[0;32m/Users/aaron/workspace/miniconda3/lib/python3.6/site-packages/pandas/core/indexing.py\u001b[0m in \u001b[0;36m__getitem__\u001b[0;34m(self, key)\u001b[0m\n\u001b[1;32m   1310\u001b[0m             \u001b[0;32mreturn\u001b[0m \u001b[0mself\u001b[0m\u001b[0;34m.\u001b[0m\u001b[0m_getitem_tuple\u001b[0m\u001b[0;34m(\u001b[0m\u001b[0mkey\u001b[0m\u001b[0;34m)\u001b[0m\u001b[0;34m\u001b[0m\u001b[0m\n\u001b[1;32m   1311\u001b[0m         \u001b[0;32melse\u001b[0m\u001b[0;34m:\u001b[0m\u001b[0;34m\u001b[0m\u001b[0m\n\u001b[0;32m-> 1312\u001b[0;31m             \u001b[0;32mreturn\u001b[0m \u001b[0mself\u001b[0m\u001b[0;34m.\u001b[0m\u001b[0m_getitem_axis\u001b[0m\u001b[0;34m(\u001b[0m\u001b[0mkey\u001b[0m\u001b[0;34m,\u001b[0m \u001b[0maxis\u001b[0m\u001b[0;34m=\u001b[0m\u001b[0;36m0\u001b[0m\u001b[0;34m)\u001b[0m\u001b[0;34m\u001b[0m\u001b[0m\n\u001b[0m\u001b[1;32m   1313\u001b[0m \u001b[0;34m\u001b[0m\u001b[0m\n\u001b[1;32m   1314\u001b[0m     \u001b[0;32mdef\u001b[0m \u001b[0m_getitem_axis\u001b[0m\u001b[0;34m(\u001b[0m\u001b[0mself\u001b[0m\u001b[0;34m,\u001b[0m \u001b[0mkey\u001b[0m\u001b[0;34m,\u001b[0m \u001b[0maxis\u001b[0m\u001b[0;34m=\u001b[0m\u001b[0;36m0\u001b[0m\u001b[0;34m)\u001b[0m\u001b[0;34m:\u001b[0m\u001b[0;34m\u001b[0m\u001b[0m\n",
      "\u001b[0;32m/Users/aaron/workspace/miniconda3/lib/python3.6/site-packages/pandas/core/indexing.py\u001b[0m in \u001b[0;36m_getitem_axis\u001b[0;34m(self, key, axis)\u001b[0m\n\u001b[1;32m   1480\u001b[0m \u001b[0;34m\u001b[0m\u001b[0m\n\u001b[1;32m   1481\u001b[0m         \u001b[0;31m# fall thru to straight lookup\u001b[0m\u001b[0;34m\u001b[0m\u001b[0;34m\u001b[0m\u001b[0m\n\u001b[0;32m-> 1482\u001b[0;31m         \u001b[0mself\u001b[0m\u001b[0;34m.\u001b[0m\u001b[0m_has_valid_type\u001b[0m\u001b[0;34m(\u001b[0m\u001b[0mkey\u001b[0m\u001b[0;34m,\u001b[0m \u001b[0maxis\u001b[0m\u001b[0;34m)\u001b[0m\u001b[0;34m\u001b[0m\u001b[0m\n\u001b[0m\u001b[1;32m   1483\u001b[0m         \u001b[0;32mreturn\u001b[0m \u001b[0mself\u001b[0m\u001b[0;34m.\u001b[0m\u001b[0m_get_label\u001b[0m\u001b[0;34m(\u001b[0m\u001b[0mkey\u001b[0m\u001b[0;34m,\u001b[0m \u001b[0maxis\u001b[0m\u001b[0;34m=\u001b[0m\u001b[0maxis\u001b[0m\u001b[0;34m)\u001b[0m\u001b[0;34m\u001b[0m\u001b[0m\n\u001b[1;32m   1484\u001b[0m \u001b[0;34m\u001b[0m\u001b[0m\n",
      "\u001b[0;32m/Users/aaron/workspace/miniconda3/lib/python3.6/site-packages/pandas/core/indexing.py\u001b[0m in \u001b[0;36m_has_valid_type\u001b[0;34m(self, key, axis)\u001b[0m\n\u001b[1;32m   1417\u001b[0m                 \u001b[0;32mraise\u001b[0m\u001b[0;34m\u001b[0m\u001b[0m\n\u001b[1;32m   1418\u001b[0m             \u001b[0;32mexcept\u001b[0m\u001b[0;34m:\u001b[0m\u001b[0;34m\u001b[0m\u001b[0m\n\u001b[0;32m-> 1419\u001b[0;31m                 \u001b[0merror\u001b[0m\u001b[0;34m(\u001b[0m\u001b[0;34m)\u001b[0m\u001b[0;34m\u001b[0m\u001b[0m\n\u001b[0m\u001b[1;32m   1420\u001b[0m \u001b[0;34m\u001b[0m\u001b[0m\n\u001b[1;32m   1421\u001b[0m         \u001b[0;32mreturn\u001b[0m \u001b[0;32mTrue\u001b[0m\u001b[0;34m\u001b[0m\u001b[0m\n",
      "\u001b[0;32m/Users/aaron/workspace/miniconda3/lib/python3.6/site-packages/pandas/core/indexing.py\u001b[0m in \u001b[0;36merror\u001b[0;34m()\u001b[0m\n\u001b[1;32m   1404\u001b[0m                                     \"key\")\n\u001b[1;32m   1405\u001b[0m                 raise KeyError(\"the label [%s] is not in the [%s]\" %\n\u001b[0;32m-> 1406\u001b[0;31m                                (key, self.obj._get_axis_name(axis)))\n\u001b[0m\u001b[1;32m   1407\u001b[0m \u001b[0;34m\u001b[0m\u001b[0m\n\u001b[1;32m   1408\u001b[0m             \u001b[0;32mtry\u001b[0m\u001b[0;34m:\u001b[0m\u001b[0;34m\u001b[0m\u001b[0m\n",
      "\u001b[0;31mKeyError\u001b[0m: 'the label [raw] is not in the [index]'"
     ]
    }
   ],
   "source": [
    "\n",
    "data = pd.DataFrame(raw_data['filename'].str.extract('(\\w*)\\/(\\w*)', expand=True))\n",
    "data.columns=['compression','basename']\n",
    "\n",
    "data['bytes'] = raw_data['bytes']\n",
    "\n",
    "\n",
    "data.set_index(['compression','basename'],inplace=True)\n",
    "data = data.unstack(level=0)\n",
    "\n",
    "print(data)\n",
    "\n",
    "compression = data / data.loc['raw']\n",
    "print(compression)\n",
    "\n",
    "# ts['str'] = files['filename'].str.extract('([\\.\\/a-zA-Z0-9]*)_([0-9T]*)', expand=True)[1]\n",
    "# files['datetime'] = pd.to_datetime(ts['str'], format='%Y%m%dT%H%M%S')\n",
    "# # files['date'] = files['datetime'].dt.date\n",
    "\n",
    "# ## Extract type (IMAGING, DOPPLER, DIFFUSE)\n",
    "# files['datatype'] = files['filename'].str.extract('([\\.\\/\\w]*)-([A-Z]*)', expand=True)[1]\n",
    "\n",
    "# files['mib'] = files['bytes'] / 2**20\n",
    "# datatypes = files['datatype'].drop_duplicates()\n",
    "\n",
    "# ##files = files.set_index('datetime')\n",
    "# # print(files)"
   ]
  },
  {
   "cell_type": "code",
   "execution_count": null,
   "metadata": {
    "collapsed": true
   },
   "outputs": [],
   "source": []
  }
 ],
 "metadata": {
  "kernelspec": {
   "display_name": "Python 3",
   "language": "python",
   "name": "python3"
  },
  "language_info": {
   "codemirror_mode": {
    "name": "ipython",
    "version": 3
   },
   "file_extension": ".py",
   "mimetype": "text/x-python",
   "name": "python",
   "nbconvert_exporter": "python",
   "pygments_lexer": "ipython3",
   "version": "3.6.0"
  }
 },
 "nbformat": 4,
 "nbformat_minor": 2
}
