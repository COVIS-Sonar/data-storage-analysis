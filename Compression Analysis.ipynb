{
 "cells": [
  {
   "cell_type": "code",
   "execution_count": 1,
   "metadata": {
    "collapsed": false,
    "scrolled": true
   },
   "outputs": [],
   "source": [
    "import pandas as pd\n",
    "import numpy as np\n",
    "\n",
    "% matplotlib inline\n",
    "import matplotlib.pyplot as plt\n",
    "\n",
    "from datetime import datetime\n",
    "\n",
    "from pandas.tseries.offsets import *"
   ]
  },
  {
   "cell_type": "markdown",
   "metadata": {},
   "source": [
    "## Load files"
   ]
  },
  {
   "cell_type": "code",
   "execution_count": 17,
   "metadata": {
    "collapsed": false,
    "scrolled": true
   },
   "outputs": [
    {
     "name": "stdout",
     "output_type": "stream",
     "text": [
      "Total of 0.421584 TiB\n"
     ]
    }
   ],
   "source": [
    "\n",
    "raw_data = pd.read_csv('raw-data/compression-results.txt', delim_whitespace=True, header=None, names=['bytes','filename'])\n",
    "\n",
    "print(\"Total of %f TiB\" % (raw_data['bytes'].sum() / 2**40))"
   ]
  },
  {
   "cell_type": "markdown",
   "metadata": {},
   "source": [
    "## Digest filenames into tarfile, directory"
   ]
  },
  {
   "cell_type": "code",
   "execution_count": 37,
   "metadata": {
    "collapsed": false,
    "scrolled": false
   },
   "outputs": [
    {
     "name": "stdout",
     "output_type": "stream",
     "text": [
      "compression                               bzip                          gzip  \\\n",
      "level                                        1         2         3         1   \n",
      "basename                                                                       \n",
      "APLUWCOVISMBSONAR001_20120401T000042  0.237323  0.239532  0.241307  0.324029   \n",
      "APLUWCOVISMBSONAR001_20120401T000952  0.253067  0.256107  0.258420  0.338677   \n",
      "APLUWCOVISMBSONAR001_20120401T004720  0.225092  0.228163  0.228944  0.306749   \n",
      "APLUWCOVISMBSONAR001_20120401T030041  0.241833  0.243953  0.245735  0.329227   \n",
      "APLUWCOVISMBSONAR001_20120401T030958  0.252067  0.255074  0.257342  0.337139   \n",
      "APLUWCOVISMBSONAR001_20120401T034727  0.224242  0.227045  0.229379  0.307433   \n",
      "APLUWCOVISMBSONAR001_20120401T060039  0.235849  0.238185  0.078538  0.322798   \n",
      "APLUWCOVISMBSONAR001_20120401T061005  0.251758  0.254958  0.257374  0.336795   \n",
      "APLUWCOVISMBSONAR001_20120401T063122  0.219990  0.222525  0.224039  0.300609   \n",
      "APLUWCOVISMBSONAR001_20120401T090040  0.236730  0.238861  0.240639  0.324985   \n",
      "APLUWCOVISMBSONAR001_20120401T090914  0.253944  0.256893  0.014570  0.341068   \n",
      "APLUWCOVISMBSONAR001_20120401T094646  0.221788  0.224350  0.226077  0.302346   \n",
      "APLUWCOVISMBSONAR001_20120401T120039  0.241470  0.243620  0.245420  0.329549   \n",
      "APLUWCOVISMBSONAR001_20120401T121001  0.254535  0.257635  0.260000  0.340463   \n",
      "APLUWCOVISMBSONAR001_20120401T124747  0.223036  0.226179  0.227425  0.305133   \n",
      "APLUWCOVISMBSONAR001_20120401T150042  0.234509  0.236730  0.238556  0.322651   \n",
      "APLUWCOVISMBSONAR001_20120401T151007  0.250370  0.253366  0.014710  0.337035   \n",
      "APLUWCOVISMBSONAR001_20120401T155139  0.221921  0.224596  0.226288  0.303739   \n",
      "APLUWCOVISMBSONAR001_20120401T180042  0.233957  0.236252  0.238124  0.320650   \n",
      "APLUWCOVISMBSONAR001_20120401T181012  0.248679  0.251859  0.254232  0.333210   \n",
      "APLUWCOVISMBSONAR001_20120401T184830  0.221599  0.224132  0.225688  0.301041   \n",
      "APLUWCOVISMBSONAR001_20120401T210042  0.239017  0.241143  0.242945  0.327528   \n",
      "APLUWCOVISMBSONAR001_20120401T210919  0.250081  0.253049  0.255388  0.336376   \n",
      "APLUWCOVISMBSONAR001_20120401T214655  0.219813  0.222364  0.223732  0.299428   \n",
      "\n",
      "compression                                                                   \\\n",
      "level                                        2         3         4         5   \n",
      "basename                                                                       \n",
      "APLUWCOVISMBSONAR001_20120401T000042  0.314775  0.297638  0.293297  0.291064   \n",
      "APLUWCOVISMBSONAR001_20120401T000952  0.328912  0.313039  0.306158  0.300736   \n",
      "APLUWCOVISMBSONAR001_20120401T004720  0.297605  0.285529  0.277463  0.273399   \n",
      "APLUWCOVISMBSONAR001_20120401T030041  0.319930  0.303117  0.299089  0.297119   \n",
      "APLUWCOVISMBSONAR001_20120401T030958  0.327920  0.311970  0.305361  0.299721   \n",
      "APLUWCOVISMBSONAR001_20120401T034727  0.298175  0.286405  0.278028  0.274770   \n",
      "APLUWCOVISMBSONAR001_20120401T060039  0.312865  0.296063  0.290682  0.288036   \n",
      "APLUWCOVISMBSONAR001_20120401T061005  0.326790  0.310997  0.303032  0.297461   \n",
      "APLUWCOVISMBSONAR001_20120401T063122  0.290882  0.280423  0.272527  0.269530   \n",
      "APLUWCOVISMBSONAR001_20120401T090040  0.315233  0.298321  0.292558  0.290399   \n",
      "APLUWCOVISMBSONAR001_20120401T090914  0.330981  0.315116  0.307211  0.301918   \n",
      "APLUWCOVISMBSONAR001_20120401T094646  0.292728  0.282286  0.274184  0.270921   \n",
      "APLUWCOVISMBSONAR001_20120401T120039  0.320199  0.303294  0.298853  0.297101   \n",
      "APLUWCOVISMBSONAR001_20120401T121001  0.330820  0.315139  0.308005  0.302656   \n",
      "APLUWCOVISMBSONAR001_20120401T124747  0.296429  0.283796  0.275939  0.271765   \n",
      "APLUWCOVISMBSONAR001_20120401T150042  0.312486  0.295538  0.290007  0.287821   \n",
      "APLUWCOVISMBSONAR001_20120401T151007  0.326984  0.311056  0.303466  0.297902   \n",
      "APLUWCOVISMBSONAR001_20120401T155139  0.294333  0.283088  0.274904  0.271600   \n",
      "APLUWCOVISMBSONAR001_20120401T180042  0.310886  0.293933  0.288941  0.286292   \n",
      "APLUWCOVISMBSONAR001_20120401T181012  0.323275  0.307367  0.299758  0.293891   \n",
      "APLUWCOVISMBSONAR001_20120401T184830  0.291782  0.281293  0.273374  0.270512   \n",
      "APLUWCOVISMBSONAR001_20120401T210042  0.317805  0.300993  0.295520  0.293433   \n",
      "APLUWCOVISMBSONAR001_20120401T210919  0.326448  0.310534  0.302774  0.297214   \n",
      "APLUWCOVISMBSONAR001_20120401T214655  0.289938  0.279850  0.271264  0.268378   \n",
      "\n",
      "compression                                                                   \\\n",
      "level                                        6         7         8         9   \n",
      "basename                                                                       \n",
      "APLUWCOVISMBSONAR001_20120401T000042  0.281449  0.280151  0.277333  0.276865   \n",
      "APLUWCOVISMBSONAR001_20120401T000952  0.291788  0.290629  0.287805  0.287443   \n",
      "APLUWCOVISMBSONAR001_20120401T004720  0.269456  0.267986  0.266774  0.266527   \n",
      "APLUWCOVISMBSONAR001_20120401T030041  0.287521  0.286162  0.283226  0.282732   \n",
      "APLUWCOVISMBSONAR001_20120401T030958  0.291384  0.290280  0.287593  0.287185   \n",
      "APLUWCOVISMBSONAR001_20120401T034727  0.270386  0.268874  0.267580  0.267350   \n",
      "APLUWCOVISMBSONAR001_20120401T060039  0.277936  0.276566  0.273664  0.273269   \n",
      "APLUWCOVISMBSONAR001_20120401T061005  0.288607  0.287363  0.284582  0.284267   \n",
      "APLUWCOVISMBSONAR001_20120401T063122  0.265376  0.263907  0.262601  0.262100   \n",
      "APLUWCOVISMBSONAR001_20120401T090040  0.280295  0.278975  0.276142  0.275733   \n",
      "APLUWCOVISMBSONAR001_20120401T090914  0.292684  0.291468  0.288674  0.288377   \n",
      "APLUWCOVISMBSONAR001_20120401T094646  0.266770  0.264914  0.264086  0.263633   \n",
      "APLUWCOVISMBSONAR001_20120401T120039  0.287231  0.285984  0.283093  0.282680   \n",
      "APLUWCOVISMBSONAR001_20120401T121001  0.293981  0.292864  0.290091  0.289749   \n",
      "APLUWCOVISMBSONAR001_20120401T124747  0.267826  0.266309  0.264978  0.264695   \n",
      "APLUWCOVISMBSONAR001_20120401T150042  0.277188  0.275840  0.272855  0.272455   \n",
      "APLUWCOVISMBSONAR001_20120401T151007  0.288746  0.287535  0.284692  0.284356   \n",
      "APLUWCOVISMBSONAR001_20120401T155139  0.266983  0.265363  0.264195  0.263923   \n",
      "APLUWCOVISMBSONAR001_20120401T180042  0.276312  0.275016  0.272166  0.271735   \n",
      "APLUWCOVISMBSONAR001_20120401T181012  0.285108  0.283911  0.281092  0.280748   \n",
      "APLUWCOVISMBSONAR001_20120401T184830  0.266781  0.265245  0.263977  0.263754   \n",
      "APLUWCOVISMBSONAR001_20120401T210042  0.283283  0.281926  0.279068  0.278651   \n",
      "APLUWCOVISMBSONAR001_20120401T210919  0.288217  0.286972  0.284165  0.283838   \n",
      "APLUWCOVISMBSONAR001_20120401T214655  0.263995  0.262603  0.261423  0.261201   \n",
      "\n",
      "compression                           raw      orig  \n",
      "level                                                \n",
      "basename                                             \n",
      "APLUWCOVISMBSONAR001_20120401T000042  1.0  0.281449  \n",
      "APLUWCOVISMBSONAR001_20120401T000952  1.0  0.291788  \n",
      "APLUWCOVISMBSONAR001_20120401T004720  1.0  0.269457  \n",
      "APLUWCOVISMBSONAR001_20120401T030041  1.0  0.287521  \n",
      "APLUWCOVISMBSONAR001_20120401T030958  1.0  0.291384  \n",
      "APLUWCOVISMBSONAR001_20120401T034727  1.0  0.270388  \n",
      "APLUWCOVISMBSONAR001_20120401T060039  1.0  0.277936  \n",
      "APLUWCOVISMBSONAR001_20120401T061005  1.0  0.288607  \n",
      "APLUWCOVISMBSONAR001_20120401T063122  1.0  0.265378  \n",
      "APLUWCOVISMBSONAR001_20120401T090040  1.0  0.280295  \n",
      "APLUWCOVISMBSONAR001_20120401T090914  1.0  0.292684  \n",
      "APLUWCOVISMBSONAR001_20120401T094646  1.0  0.266772  \n",
      "APLUWCOVISMBSONAR001_20120401T120039  1.0  0.287231  \n",
      "APLUWCOVISMBSONAR001_20120401T121001  1.0  0.293981  \n",
      "APLUWCOVISMBSONAR001_20120401T124747  1.0  0.267827  \n",
      "APLUWCOVISMBSONAR001_20120401T150042  1.0  0.277188  \n",
      "APLUWCOVISMBSONAR001_20120401T151007  1.0  0.288746  \n",
      "APLUWCOVISMBSONAR001_20120401T155139  1.0  0.266985  \n",
      "APLUWCOVISMBSONAR001_20120401T180042  1.0  0.276312  \n",
      "APLUWCOVISMBSONAR001_20120401T181012  1.0  0.285108  \n",
      "APLUWCOVISMBSONAR001_20120401T184830  1.0  0.266782  \n",
      "APLUWCOVISMBSONAR001_20120401T210042  1.0  0.283283  \n",
      "APLUWCOVISMBSONAR001_20120401T210919  1.0  0.288217  \n",
      "APLUWCOVISMBSONAR001_20120401T214655  1.0  0.263997  \n"
     ]
    }
   ],
   "source": [
    "\n",
    "data = pd.DataFrame(raw_data['filename'].str.extract('([a-z]*)([0-9]?)\\/(\\w*)', expand=True))\n",
    "data.columns=['compression', 'level','basename']\n",
    "data['bytes'] = raw_data['bytes']\n",
    "\n",
    "data.set_index(['compression','level','basename'],inplace=True)\n",
    "data = data.unstack(level=[0,1])\n",
    "\n",
    "\n",
    "compression = data['bytes']\n",
    "compression = compression.divide( compression['raw',''], axis=0)\n",
    "print(compression)\n"
   ]
  },
  {
   "cell_type": "code",
   "execution_count": 38,
   "metadata": {
    "collapsed": false
   },
   "outputs": [
    {
     "name": "stdout",
     "output_type": "stream",
     "text": [
      "compression  level\n",
      "bzip         1        0.237194\n",
      "             2        0.239857\n",
      "             3        0.214786\n",
      "gzip         1        0.322027\n",
      "             2        0.312424\n",
      "             3        0.297783\n",
      "             4        0.290933\n",
      "             5        0.287235\n",
      "             6        0.279554\n",
      "             7        0.278202\n",
      "             8        0.275911\n",
      "             9        0.275553\n",
      "raw                   1.000000\n",
      "orig                  0.279555\n",
      "dtype: float64\n"
     ]
    }
   ],
   "source": [
    "## Take column-wise mean\n",
    "mean_compression = compression.mean(axis=0)\n",
    "print(mean_compression)\n",
    "\n",
    "## Reindex by extracting level from bzip and gzip"
   ]
  },
  {
   "cell_type": "code",
   "execution_count": 48,
   "metadata": {
    "collapsed": false
   },
   "outputs": [
    {
     "data": {
      "text/plain": [
       "<matplotlib.figure.Figure at 0x11cfe5438>"
      ]
     },
     "metadata": {},
     "output_type": "display_data"
    },
    {
     "data": {
      "image/png": "[encoded data removed]",
      "text/plain": [
       "<matplotlib.figure.Figure at 0x11cb51a58>"
      ]
     },
     "metadata": {},
     "output_type": "display_data"
    }
   ],
   "source": [
    "plt.figure()\n",
    "# Create a figure with a single subplot\n",
    "f, ax = plt.subplots(1, figsize=(10,5))\n",
    "\n",
    "for algo in ['bzip', 'gzip']:\n",
    "    ax.plot( mean_compression[algo], label=algo)\n",
    "\n",
    "ax.axhline(mean_compression['orig',''], label='Current compression')\n",
    "\n",
    "\n",
    "ax.legend()\n",
    "ax.set_ylabel(\"Frac. compression\")\n",
    "ax.set_xlabel(\"Level\")\n",
    "\n",
    "plt.show()\n",
    "\n"
   ]
  },
  {
   "cell_type": "code",
   "execution_count": null,
   "metadata": {
    "collapsed": true
   },
   "outputs": [],
   "source": []
  }
 ],
 "metadata": {
  "kernelspec": {
   "display_name": "Python 3",
   "language": "python",
   "name": "python3"
  },
  "language_info": {
   "codemirror_mode": {
    "name": "ipython",
    "version": 3
   },
   "file_extension": ".py",
   "mimetype": "text/x-python",
   "name": "python",
   "nbconvert_exporter": "python",
   "pygments_lexer": "ipython3",
   "version": "3.6.0"
  }
 },
 "nbformat": 4,
 "nbformat_minor": 2
}
