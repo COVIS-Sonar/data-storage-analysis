{
 "cells": [
  {
   "cell_type": "code",
   "execution_count": 166,
   "metadata": {
    "collapsed": false
   },
   "outputs": [],
   "source": [
    "import pandas as pd\n",
    "import numpy as np\n",
    "\n",
    "% matplotlib inline\n",
    "import matplotlib.pyplot as plt\n",
    "\n",
    "from datetime import datetime\n",
    "\n",
    "from pandas.tseries.offsets import *"
   ]
  },
  {
   "cell_type": "markdown",
   "metadata": {},
   "source": [
    "AFRs based on [Backblaze Q3 2017 HDD Reliability Report](https://www.backblaze.com/blog/hard-drive-failure-rates-q3-2017/) and [2016 Cumulative Reliability Reports](https://www.backblaze.com/blog/hard-drive-benchmark-stats-2016/).\n",
    "\n",
    "2TB Drives Listed in the 2016 report:\n",
    "\n",
    " * Western Digital WC20EFRX; AFR 4.94%\n",
    " * Seagate ST320LT007; AFR 47.70%\n",
    " * Seagate ST32000542AS; AFR 9.79%\n",
    " * HGST HDS722020ALA;  AFR 1.58%\n",
    " \n",
    "3TB Drives:\n",
    "\n",
    " * Western Digital WD30EZRX; AFR 7.38%\n",
    " * Western Digital WD30EFRX; AFR 5.74%\n",
    " * Seagate ST33000651AS; AFR 4.27%\n",
    " * Seagate ST3000DM001; AFR 26.72%\n",
    " * HGST HDS723030ALA; AFR 1.92%\n",
    " * HGST HDS5C3030ALA;  AFR 0.82%\n",
    " * Toshba DT01ACA300; AFR 3.96%\n",
    " \n",
    "8TB:\n",
    "\n",
    " * HGST HUH728080ALE600; AFR 1.70%\n",
    " * Seagate ST8000DM002; AFR 1.10%\n",
    " * Seagate ST8000NM0055; AFR 1.2%\n",
    " \n",
    "The 12TB drives are too new to have reliablity stats (Backblaze has 20 instances with 500 hours total), but have a quoted reliablity of 0.35%.  Taken with a grain of salt, we've doubled that\n"
   ]
  },
  {
   "cell_type": "code",
   "execution_count": 310,
   "metadata": {
    "collapsed": false
   },
   "outputs": [
    {
     "name": "stdout",
     "output_type": "stream",
     "text": [
      "          model  tb  cost  warranty\n",
      "0      WC20EFRX   2    85         3\n",
      "1      WD30EFRX   3   106         3\n",
      "2    MG03ACA300   3   138         3\n",
      "3  ST8000NM0055   8   265         5\n",
      "4  ST1000NM0086   8   365         5\n",
      "5  ST12000NM007  12   460         5\n",
      "            WC20EFRX  WD30EFRX  MG03ACA300  ST8000NM0055  ST1000NM0086  \\\n",
      "2000-12-31    0.0494    0.0574      0.0396         0.012         0.012   \n",
      "2001-12-31    0.0494    0.0574      0.0396         0.012         0.012   \n",
      "2002-12-31    0.0494    0.0574      0.0396         0.012         0.012   \n",
      "2003-12-31    0.0494    0.0574      0.0396         0.012         0.012   \n",
      "2004-12-31    0.0494    0.0574      0.0396         0.012         0.012   \n",
      "\n",
      "            ST12000NM007  \n",
      "2000-12-31         0.012  \n",
      "2001-12-31         0.012  \n",
      "2002-12-31         0.012  \n",
      "2003-12-31         0.012  \n",
      "2004-12-31         0.012  \n"
     ]
    }
   ],
   "source": [
    "\n",
    "labels = ['model','tb','cost','warranty']\n",
    "hdds = [('WC20EFRX', 2, 85, 3 ), \n",
    "        ('WD30EFRX', 3, 106, 3),\n",
    "        ('MG03ACA300', 3, 138, 3),\n",
    "        ('ST8000NM0055', 8, 265, 5 ),\n",
    "        ('ST1000NM0086', 8, 365, 5 ),\n",
    "        ('ST12000NM007', 12, 460, 5 )] \n",
    "hdd_data = pd.DataFrame.from_records(hdds, columns=labels)\n",
    "\n",
    "epoch = 2000\n",
    "\n",
    "afr_horizon = 5 #years\n",
    "#afr_index = pd.period_range(pd.Period(year=1,freq='A'), pd.Period(year=afr_horizon,freq='A'), freq='A')\n",
    "afr_index = pd.date_range(datetime(epoch,1,1), datetime(epoch+afr_horizon,1,1), freq='A')\n",
    "afr_data = pd.DataFrame( index=afr_index )\n",
    "\n",
    "afr_data['WC20EFRX'] = (0.0494, 0.0494, 0.0494, 0.0494, 0.0494)\n",
    "afr_data['WD30EFRX'] = (0.0574, 0.0574, 0.0574, 0.0574, 0.0574)\n",
    "afr_data['MG03ACA300'] = (0.0396, 0.0396, 0.0396, 0.0396, 0.0396)   # backblaze doesn't use, using the consumer model\n",
    "afr_data['ST8000NM0055'] = (0.0120, 0.0120, 0.0120, 0.0120, 0.0120)\n",
    "afr_data['ST1000NM0086'] = (0.0120, 0.0120, 0.0120, 0.0120, 0.0120)\n",
    "afr_data['ST12000NM007'] = (0.0120, 0.0120, 0.0120, 0.0120, 0.0120)\n",
    "\n",
    "print(hdd_data)\n",
    "print(afr_data)\n",
    "\n",
    "# hdd_data = pd.DataFrame( {'afr': [0.0494, 0.0574, 0.012, 0.007],\n",
    "#                           'bytes': [2*10**12, 3*10**12, 8*10**12, 12*10**12],\n",
    "#                            'cost': [85,106,250,460]},\n",
    "#                            index = ['2tb','3tb','8tb','12tb'])"
   ]
  },
  {
   "cell_type": "code",
   "execution_count": 311,
   "metadata": {
    "collapsed": false
   },
   "outputs": [
    {
     "name": "stdout",
     "output_type": "stream",
     "text": [
      "            name         drive  qty  redun  purchased\n",
      "0     covis-nas1      WC20EFRX    4      1       2011\n",
      "1     covis-nas3      WD30EFRX    4      1       2014\n",
      "2     covis-nas5    MG03ACA300    4      1       2014\n",
      "3     covis-nas6    MG03ACA300    4      1       2014\n",
      "4   readynas-8tb  ST8000NM0055    8      2       2018\n",
      "5  readynas-10tb  ST1000NM0086    8      2       2018\n",
      "6  readynas-12tb  ST12000NM007    8      2       2018\n"
     ]
    }
   ],
   "source": [
    "labels=['name','drive','qty','redun','purchased']\n",
    "arrays = [('covis-nas1', 'WC20EFRX', 4, 1, 2011),     # Don't know what kind of drives it uses.  ReadyNAS 1500 uses \"consumer drives\"\n",
    "            ('covis-nas3', 'WD30EFRX', 4, 1, 2014),   # Don't know what kind of drives it uses.  ReadyNAS 1500 uses \"consumer drives\"\n",
    "            ('covis-nas5', 'MG03ACA300', 4, 1, 2014),\n",
    "            ('covis-nas6', 'MG03ACA300', 4, 1, 2014),\n",
    "            ('readynas-8tb', 'ST8000NM0055', 8, 2, 2018),\n",
    "            ('readynas-10tb', 'ST1000NM0086', 8, 2, 2018),\n",
    "            ('readynas-12tb', 'ST12000NM007', 8, 2, 2018)\n",
    "         ]\n",
    "\n",
    "array_data = pd.DataFrame.from_records( arrays, columns=labels)\n",
    "\n",
    "print(array_data)\n",
    "\n",
    "# array_data = pd.DataFrame( columns = ['drive', 'num', 'redun','qty','to_purchase'],\n",
    "#                           data = [['2tb',4,1,2,0],\n",
    "#                                   ['3tb',4,1,4,0],\n",
    "#                                   ['8tb',8,2,1,8 ],\n",
    "#                                   ['12tb',8,2,1,8] ] )\n",
    "\n",
    "# ## Look up drive data\n",
    "# array_data['afr'] = [hdd_data.loc[d].afr for d in array_data['drive']]\n",
    "# array_data['hdd_cost'] = [hdd_data.loc[d].cost for d in array_data['drive']]\n",
    "# array_data['bytes'] = [hdd_data.loc[d].bytes for d in array_data['drive']]"
   ]
  },
  {
   "cell_type": "code",
   "execution_count": 312,
   "metadata": {
    "collapsed": false
   },
   "outputs": [
    {
     "name": "stdout",
     "output_type": "stream",
     "text": [
      "            covis-nas1  covis-nas3  covis-nas5  covis-nas6  readynas-8tb  \\\n",
      "2018-12-31    0.183434    0.210577    0.149237    0.149237      0.092063   \n",
      "2019-12-31    0.333220    0.376811    0.276202    0.276202      0.175651   \n",
      "2020-12-31    0.455530    0.508041    0.384220    0.384220      0.251543   \n",
      "2021-12-31    0.555405    0.611636    0.476117    0.476117      0.320449   \n",
      "2022-12-31    0.636959    0.693417    0.554300    0.554300      0.383010   \n",
      "2023-12-31    0.703553    0.757976    0.620815    0.620815      0.439813   \n",
      "2024-12-31    0.757931    0.808941    0.677403    0.677403      0.491385   \n",
      "2025-12-31    0.802335    0.849173    0.725546    0.725546      0.538210   \n",
      "2026-12-31    0.838593    0.880934    0.766505    0.766505      0.580724   \n",
      "2027-12-31    0.868201    0.906007    0.801351    0.801351      0.619324   \n",
      "\n",
      "            readynas-10tb  readynas-12tb  \n",
      "2018-12-31       0.092063       0.092063  \n",
      "2019-12-31       0.175651       0.175651  \n",
      "2020-12-31       0.251543       0.251543  \n",
      "2021-12-31       0.320449       0.320449  \n",
      "2022-12-31       0.383010       0.383010  \n",
      "2023-12-31       0.439813       0.439813  \n",
      "2024-12-31       0.491385       0.491385  \n",
      "2025-12-31       0.538210       0.538210  \n",
      "2026-12-31       0.580724       0.580724  \n",
      "2027-12-31       0.619324       0.619324  \n"
     ]
    }
   ],
   "source": [
    "\n",
    "rng = pd.date_range(datetime(2018,1,1), periods=10, freq='A')    \n",
    "p_survival = pd.DataFrame(index=rng)\n",
    "                         \n",
    "#print(p_survival)\n",
    "\n",
    "for index,array in array_data.iterrows():\n",
    "        \n",
    "    this_afr = afr_data[ array['drive'] ].copy()   \n",
    "    this_afr.index = this_afr.index + DateOffset(years=array['purchased']-2000)\n",
    "\n",
    "    ## Extend to match rng\n",
    "    idx = pd.date_range(this_afr.index.min(),p_survival.index.max(),freq='A')\n",
    "    \n",
    "    # Forward fill to get years we don't have\n",
    "    this_afr=this_afr.reindex(idx).ffill()\n",
    "\n",
    "    \n",
    "    ## Extract the AFRs for the relevant dates\n",
    "    this_afr=this_afr[p_survival.index]\n",
    "    this_survival = 1-this_afr\n",
    "    #print(this_survival)\n",
    "    \n",
    "    \n",
    "    drive_p_survival = np.cumprod(this_survival)\n",
    "    #print(drive_p_survival)\n",
    "    \n",
    "    p_survival[array['name']] = drive_p_survival ** array['qty']\n",
    "    \n",
    "\n",
    "p_fail = 1-p_survival\n",
    "print(p_fail)\n",
    "    #this_drive = afr_lookup( array['drive'], age )"
   ]
  },
  {
   "cell_type": "code",
   "execution_count": 86,
   "metadata": {
    "collapsed": false
   },
   "outputs": [],
   "source": [
    "array_data['p_no_drives_fail_1yr'] = (1-array_data.afr)**array_data.num\n",
    "array_data['p_no_arrays_fail_1yr'] = array_data.p_no_drives_fail_1yr ** array_data.qty\n",
    "\n",
    "duration = 5\n",
    "\n",
    "array_data['p_drive_failure_5yr'] = 1-(1-array_data.afr)**duration\n",
    "array_data['expected_cost_5yr'] = array_data.p_drive_failure_5yr * array_data.num * array_data.qty * array_data.hdd_cost\n",
    "\n",
    "array_data['p_no_drives_fail_5yr'] = array_data.p_no_drives_fail_1yr ** duration\n",
    "array_data['p_no_arrays_fail_5yr'] = array_data.p_no_arrays_fail_1yr ** duration\n",
    "\n",
    "array_data['startup_cost'] = array_data.hdd_cost * array_data.to_purchase\n",
    "array_data['tco'] = array_data.startup_cost + array_data.expected_cost_5yr\n",
    "\n",
    "array_data['capacity'] = (array_data.num-array_data.redun) * array_data.bytes * array_data.qty"
   ]
  },
  {
   "cell_type": "code",
   "execution_count": 87,
   "metadata": {
    "collapsed": false
   },
   "outputs": [
    {
     "name": "stdout",
     "output_type": "stream",
     "text": [
      "  drive  num  redun  qty  to_purchase     afr  hdd_cost         bytes  \\\n",
      "0   2tb    4      1    2            0  0.0494      85.0  2.000000e+12   \n",
      "1   3tb    4      1    4            0  0.0574     106.0  3.000000e+12   \n",
      "2   8tb    8      2    1            8  0.0120     250.0  8.000000e+12   \n",
      "3  12tb    8      2    1            8  0.0070     460.0  1.200000e+13   \n",
      "\n",
      "   p_no_drives_fail_1yr  p_no_arrays_fail_1yr  p_drive_failure_5yr  \\\n",
      "0              0.816566              0.666780             0.223772   \n",
      "1              0.789423              0.388364             0.255890   \n",
      "2              0.907937              0.907937             0.058577   \n",
      "3              0.945353              0.945353             0.034513   \n",
      "\n",
      "   expected_cost_5yr  p_no_drives_fail_5yr  p_no_arrays_fail_5yr  \\\n",
      "0         152.165270              0.363041              0.131799   \n",
      "1         433.989335              0.306583              0.008835   \n",
      "2         117.154353              0.616990              0.616990   \n",
      "3         127.009378              0.755040              0.755040   \n",
      "\n",
      "   startup_cost          tco      capacity  \n",
      "0           0.0   152.165270  1.200000e+13  \n",
      "1           0.0   433.989335  3.600000e+13  \n",
      "2        2000.0  2117.154353  4.800000e+13  \n",
      "3        3680.0  3807.009378  7.200000e+13  \n"
     ]
    }
   ],
   "source": [
    "print(array_data)"
   ]
  },
  {
   "cell_type": "code",
   "execution_count": null,
   "metadata": {
    "collapsed": true
   },
   "outputs": [],
   "source": []
  },
  {
   "cell_type": "code",
   "execution_count": null,
   "metadata": {
    "collapsed": true
   },
   "outputs": [],
   "source": []
  }
 ],
 "metadata": {
  "kernelspec": {
   "display_name": "Python 3",
   "language": "python",
   "name": "python3"
  },
  "language_info": {
   "codemirror_mode": {
    "name": "ipython",
    "version": 3
   },
   "file_extension": ".py",
   "mimetype": "text/x-python",
   "name": "python",
   "nbconvert_exporter": "python",
   "pygments_lexer": "ipython3",
   "version": "3.6.0"
  }
 },
 "nbformat": 4,
 "nbformat_minor": 2
}
